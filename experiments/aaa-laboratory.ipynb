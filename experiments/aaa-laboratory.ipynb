{
 "cells": [
  {
   "cell_type": "markdown",
   "metadata": {},
   "source": [
    "# Laboratory\n",
    "\n",
    "**Author: @THEFFTKID**\n",
    "\n",
    "Main notebook for experimentation."
   ]
  },
  {
   "cell_type": "code",
   "execution_count": 1,
   "metadata": {},
   "outputs": [
    {
     "name": "stdout",
     "output_type": "stream",
     "text": [
      "/home/aargaez/downloads/Pedro-Pineapple/forecasting\n"
     ]
    }
   ],
   "source": [
    "cd ~/downloads/Pedro-Pineapple/forecasting"
   ]
  },
  {
   "cell_type": "code",
   "execution_count": 2,
   "metadata": {},
   "outputs": [],
   "source": [
    "from mlflow import MlflowClient\n",
    "import mlflow"
   ]
  },
  {
   "cell_type": "code",
   "execution_count": 6,
   "metadata": {},
   "outputs": [],
   "source": [
    "# Flag experiment.\n",
    "new_experiment = False\n",
    "# Name\n",
    "experiment_name = \"A2C\"\n",
    "# Description.\n",
    "experiment_description = (\n",
    "    \"Index - Stock forecasting project.\"\n",
    "    \"This experiment contains the models using AC2 policy.\"\n",
    ")\n",
    "# Tags\n",
    "experiment_tags = {\n",
    "    \"project_name\": \"Continous update policy\",\n",
    "    \"mlflow.note.content\": experiment_description,\n",
    "}\n",
    "# TODO: Change each time.\n",
    "run_name = \"dynamic_threshold\"\n"
   ]
  },
  {
   "cell_type": "code",
   "execution_count": 7,
   "metadata": {},
   "outputs": [],
   "source": [
    "client = MlflowClient(tracking_uri=\"http://127.0.0.1:8080\")"
   ]
  },
  {
   "cell_type": "code",
   "execution_count": 8,
   "metadata": {},
   "outputs": [],
   "source": [
    "if new_experiment:\n",
    "    # Creates the MLflow experiment.\n",
    "    produce_experiment = client.create_experiment(\n",
    "        name=experiment_name,\n",
    "        tags=experiment_tags\n",
    "    )"
   ]
  },
  {
   "cell_type": "code",
   "execution_count": 9,
   "metadata": {},
   "outputs": [],
   "source": [
    "import matplotlib.pyplot as plt\n",
    "import pandas as pd\n",
    "import environments\n",
    "import dataclasses\n",
    "import numpy as np\n",
    "import evaluation\n",
    "import utils\n",
    "\n",
    "from dynamic_threshold import define_threshold\n",
    "from stable_baselines3 import A2C\n",
    "from dataclasses import dataclass\n",
    "from json import dumps"
   ]
  },
  {
   "cell_type": "code",
   "execution_count": 10,
   "metadata": {},
   "outputs": [],
   "source": [
    "# Use the fluent API to set the tracking uri and the active experiment.\n",
    "mlflow.set_tracking_uri(\"http://127.0.0.1:8080\")\n",
    "\n",
    "# Sets the current active experiment to the \"index_forecast\" experiment and returns the experiment metadata.\n",
    "experiment = mlflow.set_experiment(experiment_name)\n",
    "\n",
    "# Define a run name for this iteration of training.\n",
    "# If this is not set, a unique name will be auto-generated for your run.\n",
    "# run_name = \"dynamic_threshold\"\n",
    "\n",
    "# Define an artifact path that the model will be saved to.\n",
    "artifact_path = \"a2c_index\""
   ]
  },
  {
   "cell_type": "code",
   "execution_count": 11,
   "metadata": {},
   "outputs": [],
   "source": [
    "# Model parameters.\n",
    "@dataclass\n",
    "class ModelParameters:\n",
    "    time_steps: int\n",
    "    window_size: int\n",
    "    data_path: str\n",
    "    lower_threshold: float\n",
    "    upper_threshold: float\n",
    "    proportion: float"
   ]
  },
  {
   "cell_type": "code",
   "execution_count": 12,
   "metadata": {},
   "outputs": [],
   "source": [
    "def train_experiment(parameters: ModelParameters):\n",
    "    \"\"\"\n",
    "    Wrapper function for MLflow model versioning\n",
    "    \"\"\"\n",
    "    # Read data.\n",
    "    data = pd.read_csv(filepath_or_buffer=parameters.data_path)\n",
    "    # Cast columns.\n",
    "    data.columns = data.columns.str.lower()\n",
    "\n",
    "    data['labels'], data['perc_relative_diff'] = evaluation.create_labels(\n",
    "        x=data['close'],\n",
    "        labels=[0, 1, 2],\n",
    "        perc_bounds=[\n",
    "            parameters.lower_threshold,\n",
    "            parameters.upper_threshold\n",
    "        ]\n",
    "    )\n",
    "    \n",
    "    # Split dataset into train and test.\n",
    "    df_train, df_test = evaluation.data_splitter(\n",
    "        raw_data=data,\n",
    "        proportion=parameters.proportion\n",
    "    )\n",
    "\n",
    "    # Create the environment.\n",
    "    env = environments.Forecasting(\n",
    "        df=df_train,\n",
    "        window_size=parameters.window_size,\n",
    "        lower_threshold=parameters.lower_threshold,\n",
    "        upper_threshold=parameters.upper_threshold\n",
    "    )\n",
    "\n",
    "    # Train environment.\n",
    "    model = A2C('MlpPolicy', env, verbose=1)\n",
    "    # Learn.\n",
    "    model.learn(total_timesteps=parameters.time_steps)\n",
    "\n",
    "    # Initialize a new environment with test-set.\n",
    "    env_test = environments.Forecasting(\n",
    "        df=df_test,\n",
    "        window_size=parameters.window_size,\n",
    "        lower_threshold=parameters.lower_threshold,\n",
    "        upper_threshold=parameters.upper_threshold\n",
    "    )\n",
    "\n",
    "    # Reset environment.\n",
    "    observation, info = env_test.reset(\n",
    "        upper_threshold=env.up_threshold,\n",
    "        lower_threshold=env.low_threshold\n",
    "    )\n",
    "\n",
    "    while True: \n",
    "        observation = observation[np.newaxis, ...]\n",
    "        action, states = model.predict(observation)\n",
    "        observation, rewards, done, truncated, info = env_test.step(action)\n",
    "        if done or truncated:\n",
    "            print('info', info, '\\n')\n",
    "            break\n",
    "    \n",
    "    y_true = df_test['labels'].to_numpy()[parameters.window_size + 1:]\n",
    "    y_pred = np.concatenate(env_test.actions_history)\n",
    "\n",
    "    performance = evaluation.evaluation_metrics(\n",
    "        y_true=y_true,\n",
    "        y_pred=y_pred,\n",
    "        target_names=['down', 'no', 'up']\n",
    "    )\n",
    "\n",
    "    print(dumps(performance, indent=4))\n",
    "\n",
    "    # Logging params and metrics to MLflow.\n",
    "    metrics = utils.flatten_dict(d=performance)\n",
    "\n",
    "    # Log the parameters used for the model fit.\n",
    "    mlflow.log_params(params=dataclasses.asdict(parameters))\n",
    "\n",
    "    # Log the error metrics that were calculated during validation.\n",
    "    mlflow.log_metrics(metrics=metrics)\n",
    "\n",
    "    # TODO: Log an instance of the trained model for later use."
   ]
  },
  {
   "cell_type": "code",
   "execution_count": 13,
   "metadata": {},
   "outputs": [],
   "source": [
    "# Experiment parameters.\n",
    "parameters = ModelParameters(\n",
    "    time_steps=200,\n",
    "    window_size=15,\n",
    "    data_path='~/downloads/Pedro-Pineapple/data/SPY_20172023.csv',\n",
    "    lower_threshold=.5,\n",
    "    upper_threshold=.5,\n",
    "    proportion=0.9\n",
    ")"
   ]
  },
  {
   "cell_type": "code",
   "execution_count": 14,
   "metadata": {},
   "outputs": [
    {
     "name": "stdout",
     "output_type": "stream",
     "text": [
      "Using cpu device\n",
      "Wrapping the env with a `Monitor` wrapper\n",
      "Wrapping the env in a DummyVecEnv.\n",
      "info {'total_reward': 843.7000732421875} \n",
      "\n"
     ]
    },
    {
     "data": {
      "image/png": "[encoded data removed]",
      "text/plain": [
       "<Figure size 640x480 with 2 Axes>"
      ]
     },
     "metadata": {},
     "output_type": "display_data"
    },
    {
     "name": "stdout",
     "output_type": "stream",
     "text": [
      "{\n",
      "    \"down\": {\n",
      "        \"precision\": 0.4627659574468085,\n",
      "        \"recall\": 0.36099585062240663,\n",
      "        \"f1-score\": 0.4055944055944056,\n",
      "        \"support\": 241.0\n",
      "    },\n",
      "    \"no\": {\n",
      "        \"precision\": 0.06060606060606061,\n",
      "        \"recall\": 0.05128205128205128,\n",
      "        \"f1-score\": 0.05555555555555555,\n",
      "        \"support\": 39.0\n",
      "    },\n",
      "    \"up\": {\n",
      "        \"precision\": 0.420863309352518,\n",
      "        \"recall\": 0.5342465753424658,\n",
      "        \"f1-score\": 0.47082494969818917,\n",
      "        \"support\": 219.0\n",
      "    },\n",
      "    \"accuracy\": 0.41282565130260523,\n",
      "    \"macro avg\": {\n",
      "        \"precision\": 0.31474510913512904,\n",
      "        \"recall\": 0.3155081590823079,\n",
      "        \"f1-score\": 0.3106583036160501,\n",
      "        \"support\": 499.0\n",
      "    },\n",
      "    \"weighted avg\": {\n",
      "        \"precision\": 0.41294448267839406,\n",
      "        \"recall\": 0.41282565130260523,\n",
      "        \"f1-score\": 0.40686489458681735,\n",
      "        \"support\": 499.0\n",
      "    }\n",
      "}\n"
     ]
    }
   ],
   "source": [
    "# Run for save the model.\n",
    "with mlflow.start_run(run_name=run_name) as run:\n",
    "    train_experiment(parameters=parameters)"
   ]
  }
 ],
 "metadata": {
  "kernelspec": {
   "display_name": "venvpp",
   "language": "python",
   "name": "python3"
  },
  "language_info": {
   "codemirror_mode": {
    "name": "ipython",
    "version": 3
   },
   "file_extension": ".py",
   "mimetype": "text/x-python",
   "name": "python",
   "nbconvert_exporter": "python",
   "pygments_lexer": "ipython3",
   "version": "3.8.10"
  }
 },
 "nbformat": 4,
 "nbformat_minor": 2
}
