{
 "cells": [
  {
   "cell_type": "markdown",
   "metadata": {},
   "source": [
    "# Experiment tracking\n",
    "\n",
    "**Author: @THEFFTKID**\n",
    "\n",
    "In order to follow up the different experiments to improve the model performance, MLflow will be used."
   ]
  },
  {
   "cell_type": "code",
   "execution_count": 23,
   "metadata": {},
   "outputs": [
    {
     "name": "stdout",
     "output_type": "stream",
     "text": [
      "/home/aargaez/downloads/Pedro-Pineapple/forecasting\n"
     ]
    }
   ],
   "source": [
    "cd ~/downloads/Pedro-Pineapple/forecasting"
   ]
  },
  {
   "cell_type": "code",
   "execution_count": 24,
   "metadata": {},
   "outputs": [],
   "source": [
    "from mlflow import MlflowClient\n",
    "import mlflow"
   ]
  },
  {
   "cell_type": "code",
   "execution_count": 25,
   "metadata": {},
   "outputs": [],
   "source": [
    "client = MlflowClient(tracking_uri=\"http://127.0.0.1:8080\")"
   ]
  },
  {
   "cell_type": "code",
   "execution_count": 26,
   "metadata": {},
   "outputs": [],
   "source": [
    "experiment_description = (\n",
    "    \"Index - Stock forecasting project.\"\n",
    "    \"This experiment contains the models using AC2 policy.\"\n",
    ")\n",
    "\n",
    "experiment_tags = {\n",
    "    \"project_name\": \"Continous update policy\",\n",
    "    \"mlflow.note.content\": experiment_description,\n",
    "}\n",
    "\n",
    "produce_apples_experiment = client.create_experiment(name=\"A2C\", tags=experiment_tags)"
   ]
  },
  {
   "cell_type": "code",
   "execution_count": 27,
   "metadata": {},
   "outputs": [],
   "source": [
    "import matplotlib.pyplot as plt\n",
    "import pandas as pd\n",
    "import environments\n",
    "import numpy as np\n",
    "import dataclasses\n",
    "\n",
    "from typing import Tuple, Union, List\n",
    "from stable_baselines3 import A2C\n",
    "from dataclasses import dataclass\n",
    "from sklearn.metrics import (\n",
    "    ConfusionMatrixDisplay,\n",
    "    classification_report,\n",
    "    confusion_matrix\n",
    ")\n",
    "from json import dumps"
   ]
  },
  {
   "cell_type": "code",
   "execution_count": 28,
   "metadata": {},
   "outputs": [
    {
     "name": "stderr",
     "output_type": "stream",
     "text": [
      "2023/11/19 22:56:07 INFO mlflow.tracking.fluent: Experiment with name 'index_forecast' does not exist. Creating a new experiment.\n"
     ]
    }
   ],
   "source": [
    "# Use the fluent API to set the tracking uri and the active experiment.\n",
    "mlflow.set_tracking_uri(\"http://127.0.0.1:8080\")\n",
    "\n",
    "# Sets the current active experiment to the \"index_forecast\" experiment and returns the experiment metadata.\n",
    "apple_experiment = mlflow.set_experiment(\"index_forecast\")\n",
    "\n",
    "# Define a run name for this iteration of training.\n",
    "# If this is not set, a unique name will be auto-generated for your run.\n",
    "run_name = \"first_model\"\n",
    "\n",
    "# Define an artifact path that the model will be saved to.\n",
    "artifact_path = \"a2c_index\""
   ]
  },
  {
   "cell_type": "code",
   "execution_count": 29,
   "metadata": {},
   "outputs": [],
   "source": [
    "# Model parameters.\n",
    "@dataclass\n",
    "class ModelParameters:\n",
    "    time_steps: int\n",
    "    window_size: int\n",
    "    data_path: str\n",
    "    is_random_walk: bool = False\n",
    "\n",
    "\n",
    "def flatten_dict(d, parent_key='', sep='_'):\n",
    "    \"\"\"\n",
    "    Flatten a nested dictionary by combining keys with their parent keys.\n",
    "\n",
    "    Parameters:\n",
    "    - d (dict): The input dictionary.\n",
    "    - parent_key (str): The parent key for recursion.\n",
    "    - sep (str): The separator to use between parent and child keys.\n",
    "\n",
    "    Returns:\n",
    "    - dict: The flattened dictionary.\n",
    "    \"\"\"\n",
    "    items = []\n",
    "    for k, v in d.items():\n",
    "        new_key = f\"{parent_key}{sep}{k}\" if parent_key else k\n",
    "        if isinstance(v, dict):\n",
    "            items.extend(flatten_dict(v, new_key, sep=sep).items())\n",
    "        else:\n",
    "            items.append((new_key, v))\n",
    "    return dict(items)\n",
    "\n",
    "def data_splitter(\n",
    "    raw_data: pd.DataFrame,\n",
    "    proportion: int = 0.7,\n",
    "    init: Union[int, Tuple[int, int]] = None,\n",
    "    end: Union[int, Tuple[int, int]] = None\n",
    ") -> Tuple[pd.DataFrame, pd.DataFrame]:\n",
    "    \"\"\"\n",
    "    Split the raw time series data set.\n",
    "    \"\"\"\n",
    "    if isinstance(init, int) and isinstance(end, int):\n",
    "        train = raw_data.iloc[:init]\n",
    "        test = raw_data.iloc[end:]\n",
    "    \n",
    "    if isinstance(init, tuple) and isinstance(end, tuple):\n",
    "        train = raw_data.iloc[init[0]:init[1]]\n",
    "        test = raw_data.iloc[end[0]:end[1]]\n",
    "    \n",
    "    if not init and not end:\n",
    "        splitter = round(raw_data.shape[0] * proportion)\n",
    "        train, test = raw_data.iloc[:splitter], raw_data.iloc[splitter:]\n",
    "\n",
    "    return train, test\n",
    "\n",
    "def create_labels(\n",
    "    x: pd.Series,\n",
    "    bins: List[float],\n",
    "    labels: List[Union[str, float, int]]\n",
    ") -> Tuple[pd.Series, pd.Series]:\n",
    "    \"\"\"\n",
    "    Create the labels based on a given pd.Series.\n",
    "    \"\"\"\n",
    "    # Relative differences.\n",
    "    relative_diff = x.pct_change(periods=1).fillna(value=0)\n",
    "    # Percentual.\n",
    "    perc_relative_diff = relative_diff * 100\n",
    "    # Cut labels.\n",
    "    all_labels = pd.cut(\n",
    "        x=perc_relative_diff,\n",
    "        bins=bins,\n",
    "        labels=labels,\n",
    "        right=False\n",
    "    )\n",
    "\n",
    "    return all_labels, perc_relative_diff\n",
    "\n",
    "def evaluation_metrics(\n",
    "    y_true: pd.Series,\n",
    "    y_pred: pd.Series,\n",
    "    target_names: List[Union[int,str,float]]\n",
    ") -> Union[str, dict]:\n",
    "    \"\"\"\n",
    "    Creates the confusion matrix from Scikit-learn.\n",
    "    \"\"\"\n",
    "    cm = confusion_matrix(y_true=y_true, y_pred=y_pred)\n",
    "    disp = ConfusionMatrixDisplay(\n",
    "        confusion_matrix=cm,\n",
    "        display_labels=target_names\n",
    "    )\n",
    "    disp.plot()\n",
    "    plt.show()\n",
    "\n",
    "    report = classification_report(\n",
    "        y_true=y_true,\n",
    "        y_pred=y_pred,\n",
    "        target_names=target_names,\n",
    "        output_dict=True\n",
    "    )\n",
    "    return report"
   ]
  },
  {
   "cell_type": "code",
   "execution_count": 30,
   "metadata": {},
   "outputs": [],
   "source": [
    "def train_experiment(parameters: ModelParameters):\n",
    "    \"\"\"\n",
    "    Wrapper function for MLflow model versioning\n",
    "    \"\"\"\n",
    "    # Read data.\n",
    "    data = pd.read_csv(filepath_or_buffer=parameters.data_path)\n",
    "    # Cast columns.\n",
    "    data.columns = data.columns.str.lower()\n",
    "\n",
    "    # TODO: Add statistical bins.\n",
    "    data['labels'], data['perc_relative_diff'] = create_labels(\n",
    "        x=data['close'],\n",
    "        bins=[-float('inf'), -0.1, 0.1, float('inf')],\n",
    "        labels=[0, 1, 2]\n",
    "    )\n",
    "    \n",
    "    # Split dataset into train and test.\n",
    "    df_train, df_test = data_splitter(raw_data=data)\n",
    "\n",
    "    # Create the environment.\n",
    "    env = environments.Forecasting(\n",
    "        df=df_train, window_size=parameters.window_size\n",
    "    )\n",
    "\n",
    "    # Train environment.\n",
    "    model = A2C('MlpPolicy', env, verbose=1)\n",
    "    # Learn.\n",
    "    model.learn(total_timesteps=parameters.time_steps)\n",
    "\n",
    "    # Initialize a new environment with test-set.\n",
    "    env = environments.Forecasting(\n",
    "        df=df_test, window_size=parameters.window_size\n",
    "    )\n",
    "\n",
    "    # Reset environment.\n",
    "    observation, info = env.reset()\n",
    "\n",
    "    while True: \n",
    "        observation = observation[np.newaxis, ...]\n",
    "        action, states = model.predict(observation)\n",
    "        observation, rewards, done, truncated, info = env.step(action)\n",
    "        if done or truncated:\n",
    "            print('info', info, '\\n')\n",
    "            break\n",
    "    \n",
    "    y_true = df_test['labels'].to_numpy()[parameters.window_size + 1:]\n",
    "    y_pred = np.concatenate(env.actions_history)\n",
    "\n",
    "    performance = evaluation_metrics(\n",
    "        y_true=y_true,\n",
    "        y_pred=y_pred,\n",
    "        target_names=['down', 'no', 'up']\n",
    "    )\n",
    "\n",
    "    print(dumps(performance, indent=4))\n",
    "\n",
    "    # Logging params and metrics to MLflow.\n",
    "    metrics = flatten_dict(d=performance)\n",
    "\n",
    "    # Log the parameters used for the model fit.\n",
    "    mlflow.log_params(params=dataclasses.asdict(parameters))\n",
    "\n",
    "    # Log the error metrics that were calculated during validation.\n",
    "    mlflow.log_metrics(metrics=metrics)\n",
    "\n",
    "    # for name, metric in performance.items():\n",
    "    #     mlflow.log_metric(key=name, value=metric)\n",
    "\n",
    "    # TODO: Log an instance of the trained model for later use."
   ]
  },
  {
   "cell_type": "code",
   "execution_count": 34,
   "metadata": {},
   "outputs": [],
   "source": [
    "test = {\n",
    "    \"down\": {\n",
    "        \"precision\": 0.5,\n",
    "        \"recall\": 0.0625,\n",
    "        \"f1-score\": 0.1111111111111111,\n",
    "        \"support\": 240.0\n",
    "    },\n",
    "    \"no\": {\n",
    "        \"precision\": 0.2222222222222222,\n",
    "        \"recall\": 0.05,\n",
    "        \"f1-score\": 0.0816326530612245,\n",
    "        \"support\": 40.0\n",
    "    },\n",
    "    \"up\": {\n",
    "        \"precision\": 0.4391304347826087,\n",
    "        \"recall\": 0.9223744292237442,\n",
    "        \"f1-score\": 0.5949926362297496,\n",
    "        \"support\": 219.0\n",
    "    },\n",
    "    \"accuracy\": 0.43887775551102204,\n",
    "    \"macro avg\": {\n",
    "        \"precision\": 0.38711755233494366,\n",
    "        \"recall\": 0.3449581430745814,\n",
    "        \"f1-score\": 0.2625788001340284,\n",
    "        \"support\": 499.0\n",
    "    },\n",
    "    \"weighted avg\": {\n",
    "        \"precision\": 0.4510189461047699,\n",
    "        \"recall\": 0.43887775551102204,\n",
    "        \"f1-score\": 0.3211129461391399,\n",
    "        \"support\": 499.0\n",
    "    }\n",
    "}"
   ]
  },
  {
   "cell_type": "code",
   "execution_count": 31,
   "metadata": {},
   "outputs": [],
   "source": [
    "# Experiment parameters.\n",
    "parameters = ModelParameters(\n",
    "    time_steps=200,\n",
    "    window_size=15,\n",
    "    data_path='~/downloads/Pedro-Pineapple/data/SPY_20172023.csv'\n",
    ")"
   ]
  },
  {
   "cell_type": "code",
   "execution_count": 32,
   "metadata": {},
   "outputs": [],
   "source": [
    "# Define new experiment.\n",
    "experiment_name = 'A2C'\n",
    "experiment_id = mlflow.set_experiment(experiment_name=experiment_name)"
   ]
  },
  {
   "cell_type": "code",
   "execution_count": 33,
   "metadata": {},
   "outputs": [
    {
     "name": "stdout",
     "output_type": "stream",
     "text": [
      "Using cpu device\n",
      "Wrapping the env with a `Monitor` wrapper\n",
      "Wrapping the env in a DummyVecEnv.\n",
      "info {'total_reward': 925.6400451660161} \n",
      "\n"
     ]
    },
    {
     "data": {
      "image/png": "[encoded data removed]",
      "text/plain": [
       "<Figure size 640x480 with 2 Axes>"
      ]
     },
     "metadata": {},
     "output_type": "display_data"
    },
    {
     "name": "stdout",
     "output_type": "stream",
     "text": [
      "{\n",
      "    \"down\": {\n",
      "        \"precision\": 0.5,\n",
      "        \"recall\": 0.0625,\n",
      "        \"f1-score\": 0.1111111111111111,\n",
      "        \"support\": 240.0\n",
      "    },\n",
      "    \"no\": {\n",
      "        \"precision\": 0.2222222222222222,\n",
      "        \"recall\": 0.05,\n",
      "        \"f1-score\": 0.0816326530612245,\n",
      "        \"support\": 40.0\n",
      "    },\n",
      "    \"up\": {\n",
      "        \"precision\": 0.4391304347826087,\n",
      "        \"recall\": 0.9223744292237442,\n",
      "        \"f1-score\": 0.5949926362297496,\n",
      "        \"support\": 219.0\n",
      "    },\n",
      "    \"accuracy\": 0.43887775551102204,\n",
      "    \"macro avg\": {\n",
      "        \"precision\": 0.38711755233494366,\n",
      "        \"recall\": 0.3449581430745814,\n",
      "        \"f1-score\": 0.2625788001340284,\n",
      "        \"support\": 499.0\n",
      "    },\n",
      "    \"weighted avg\": {\n",
      "        \"precision\": 0.4510189461047699,\n",
      "        \"recall\": 0.43887775551102204,\n",
      "        \"f1-score\": 0.3211129461391399,\n",
      "        \"support\": 499.0\n",
      "    }\n",
      "}\n"
     ]
    }
   ],
   "source": [
    "# Run for save the model.\n",
    "with mlflow.start_run(run_name=run_name) as run:\n",
    "    train_experiment(parameters=parameters)"
   ]
  }
 ],
 "metadata": {
  "kernelspec": {
   "display_name": "venvpp",
   "language": "python",
   "name": "python3"
  },
  "language_info": {
   "codemirror_mode": {
    "name": "ipython",
    "version": 3
   },
   "file_extension": ".py",
   "mimetype": "text/x-python",
   "name": "python",
   "nbconvert_exporter": "python",
   "pygments_lexer": "ipython3",
   "version": "3.8.10"
  }
 },
 "nbformat": 4,
 "nbformat_minor": 2
}
