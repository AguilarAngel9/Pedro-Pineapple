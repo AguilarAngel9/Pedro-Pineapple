{
 "cells": [
  {
   "cell_type": "markdown",
   "metadata": {},
   "source": [
    "# Experiments 203\n",
    "\n",
    "***Changelog:***\n",
    "- Validation metrics added\n",
    "- New network architectures added. "
   ]
  },
  {
   "cell_type": "code",
   "execution_count": 1,
   "metadata": {},
   "outputs": [
    {
     "name": "stdout",
     "output_type": "stream",
     "text": [
      "/Users/camilacusicanqui/Documents/Pedro-Pineapple/forecasting\n"
     ]
    }
   ],
   "source": [
    "cd /Users/camilacusicanqui/Documents/Pedro-Pineapple/forecasting"
   ]
  },
  {
   "cell_type": "code",
   "execution_count": 2,
   "metadata": {},
   "outputs": [],
   "source": [
    "import matplotlib.pyplot as plt\n",
    "import seaborn as sns\n",
    "import pandas as pd\n",
    "import environments\n",
    "from dynamic_threshold import define_threshold\n",
    "\n",
    "import numpy as np\n",
    "from stable_baselines3 import A2C\n",
    "from dataclasses import dataclass\n",
    "from sklearn.metrics import (\n",
    "    ConfusionMatrixDisplay,\n",
    "    classification_report,\n",
    "    confusion_matrix\n",
    ")\n",
    "from json import dumps\n",
    "from typing import Tuple, Union, List"
   ]
  },
  {
   "cell_type": "code",
   "execution_count": 3,
   "metadata": {},
   "outputs": [],
   "source": [
    "def data_splitter(\n",
    "    raw_data: pd.DataFrame,\n",
    "    proportion: int = 0.7,\n",
    "    init: Union[int, Tuple[int, int]] = None,\n",
    "    end: Union[int, Tuple[int, int]] = None\n",
    ") -> Tuple[pd.DataFrame, pd.DataFrame]:\n",
    "    \"\"\"\n",
    "    Split the raw time series data set.\n",
    "    \"\"\"\n",
    "    if isinstance(init, int) and isinstance(end, int):\n",
    "        train = raw_data.iloc[:init]\n",
    "        test = raw_data.iloc[end:]\n",
    "    \n",
    "    if isinstance(init, tuple) and isinstance(end, tuple):\n",
    "        train = raw_data.iloc[init[0]:init[1]]\n",
    "        test = raw_data.iloc[end[0]:end[1]]\n",
    "\n",
    "    if not init and not end:\n",
    "        splitter = round(raw_data.shape[0] * proportion)\n",
    "        train, test = raw_data.iloc[:splitter], raw_data.iloc[splitter:]\n",
    "\n",
    "    return train, test\n",
    "\n",
    "def evaluation_metrics(\n",
    "    y_true: pd.Series,\n",
    "    y_pred: pd.Series,\n",
    "    target_names: List[Union[int,str,float]]\n",
    ") -> Union[str, dict]:\n",
    "    \"\"\"\n",
    "    Creates the confusion matrix from Scikit-learn.\n",
    "    \"\"\"\n",
    "    cm = confusion_matrix(y_true=y_true, y_pred=y_pred)\n",
    "    disp = ConfusionMatrixDisplay(\n",
    "        confusion_matrix=cm,\n",
    "        display_labels=target_names\n",
    "    )\n",
    "    disp.plot()\n",
    "    plt.show()\n",
    "\n",
    "    report = classification_report(\n",
    "        y_true=y_true,\n",
    "        y_pred=y_pred,\n",
    "        target_names=target_names,\n",
    "        output_dict=True\n",
    "    )\n",
    "    return report\n",
    "\n",
    "########### LABELS ############\n",
    "\n",
    "def create_labels(\n",
    "    x: pd.Series,\n",
    "    labels: List[Union[str, float, int]],\n",
    "    perc_bounds: List[float],\n",
    "    override_plot: bool = False\n",
    ") -> Tuple[pd.Series, pd.Series]:\n",
    "    \"\"\"\n",
    "    Create the labels based on a given pd.Series.\n",
    "    \"\"\"\n",
    "    # Limit for bins.\n",
    "    # Relative differences.\n",
    "    relative_diff = x.pct_change(periods=1).fillna(value=0)\n",
    "    \n",
    "    # Percentual.\n",
    "    perc_relative_diff = relative_diff * 100\n",
    "    # Cut labels.\n",
    "    threshold_up, threshold_low = define_threshold(\n",
    "        df = perc_relative_diff,\n",
    "        lower_bound = perc_bounds[0],\n",
    "        upper_bound = perc_bounds[1],\n",
    "        override_plot = override_plot\n",
    "    )\n",
    "    print(threshold_low, threshold_up)\n",
    "    bins=[-float('inf'), threshold_low, threshold_up, float('inf')]\n",
    "    type(perc_relative_diff)\n",
    "\n",
    "    all_labels = pd.cut(\n",
    "        x = perc_relative_diff,\n",
    "        bins = bins,\n",
    "        labels = labels,\n",
    "        right = False\n",
    "    )\n",
    "\n",
    "    return all_labels, perc_relative_diff\n",
    "\n"
   ]
  },
  {
   "cell_type": "code",
   "execution_count": 4,
   "metadata": {},
   "outputs": [],
   "source": [
    "# Time series parameters.\n",
    "@dataclass\n",
    "class PARAMETERS:\n",
    "    TIMESTEPS = 200\n",
    "    WINDOW_SIZE = 5\n",
    "    DATA_PATH = '/Users/camilacusicanqui/Documents/Pedro-Pineapple/data/SPY_20172023.csv'"
   ]
  },
  {
   "cell_type": "code",
   "execution_count": 5,
   "metadata": {},
   "outputs": [],
   "source": [
    "# Read data.\n",
    "data = pd.read_csv(PARAMETERS.DATA_PATH)\n",
    "data.columns = data.columns.str.lower()"
   ]
  },
  {
   "cell_type": "code",
   "execution_count": 6,
   "metadata": {},
   "outputs": [
    {
     "name": "stdout",
     "output_type": "stream",
     "text": [
      "-0.0863631393033738 0.0863631393033738\n"
     ]
    }
   ],
   "source": [
    "data['labels'], data['perc_relative_diff'] = create_labels(\n",
    "    x = data['close'],\n",
    "    labels = [0, 1, 2],\n",
    "    perc_bounds = [0.5, 0.5],\n",
    "    override_plot  = False\n",
    ")"
   ]
  },
  {
   "cell_type": "code",
   "execution_count": 7,
   "metadata": {},
   "outputs": [
    {
     "data": {
      "text/html": [
       "<div>\n",
       "<style scoped>\n",
       "    .dataframe tbody tr th:only-of-type {\n",
       "        vertical-align: middle;\n",
       "    }\n",
       "\n",
       "    .dataframe tbody tr th {\n",
       "        vertical-align: top;\n",
       "    }\n",
       "\n",
       "    .dataframe thead th {\n",
       "        text-align: right;\n",
       "    }\n",
       "</style>\n",
       "<table border=\"1\" class=\"dataframe\">\n",
       "  <thead>\n",
       "    <tr style=\"text-align: right;\">\n",
       "      <th></th>\n",
       "      <th>date</th>\n",
       "      <th>open</th>\n",
       "      <th>high</th>\n",
       "      <th>low</th>\n",
       "      <th>close</th>\n",
       "      <th>adj close</th>\n",
       "      <th>volume</th>\n",
       "      <th>labels</th>\n",
       "      <th>perc_relative_diff</th>\n",
       "    </tr>\n",
       "  </thead>\n",
       "  <tbody>\n",
       "    <tr>\n",
       "      <th>0</th>\n",
       "      <td>2017-01-03</td>\n",
       "      <td>225.039993</td>\n",
       "      <td>225.830002</td>\n",
       "      <td>223.880005</td>\n",
       "      <td>225.240005</td>\n",
       "      <td>200.629639</td>\n",
       "      <td>91366500</td>\n",
       "      <td>1</td>\n",
       "      <td>0.000000</td>\n",
       "    </tr>\n",
       "    <tr>\n",
       "      <th>1</th>\n",
       "      <td>2017-01-04</td>\n",
       "      <td>225.619995</td>\n",
       "      <td>226.750000</td>\n",
       "      <td>225.610001</td>\n",
       "      <td>226.580002</td>\n",
       "      <td>201.823273</td>\n",
       "      <td>78744400</td>\n",
       "      <td>2</td>\n",
       "      <td>0.594919</td>\n",
       "    </tr>\n",
       "    <tr>\n",
       "      <th>2</th>\n",
       "      <td>2017-01-05</td>\n",
       "      <td>226.270004</td>\n",
       "      <td>226.580002</td>\n",
       "      <td>225.479996</td>\n",
       "      <td>226.399994</td>\n",
       "      <td>201.662949</td>\n",
       "      <td>78379000</td>\n",
       "      <td>1</td>\n",
       "      <td>-0.079446</td>\n",
       "    </tr>\n",
       "    <tr>\n",
       "      <th>3</th>\n",
       "      <td>2017-01-06</td>\n",
       "      <td>226.529999</td>\n",
       "      <td>227.750000</td>\n",
       "      <td>225.899994</td>\n",
       "      <td>227.210007</td>\n",
       "      <td>202.384445</td>\n",
       "      <td>71559900</td>\n",
       "      <td>2</td>\n",
       "      <td>0.357780</td>\n",
       "    </tr>\n",
       "    <tr>\n",
       "      <th>4</th>\n",
       "      <td>2017-01-09</td>\n",
       "      <td>226.910004</td>\n",
       "      <td>227.070007</td>\n",
       "      <td>226.419998</td>\n",
       "      <td>226.460007</td>\n",
       "      <td>201.716431</td>\n",
       "      <td>46939700</td>\n",
       "      <td>0</td>\n",
       "      <td>-0.330091</td>\n",
       "    </tr>\n",
       "    <tr>\n",
       "      <th>...</th>\n",
       "      <td>...</td>\n",
       "      <td>...</td>\n",
       "      <td>...</td>\n",
       "      <td>...</td>\n",
       "      <td>...</td>\n",
       "      <td>...</td>\n",
       "      <td>...</td>\n",
       "      <td>...</td>\n",
       "      <td>...</td>\n",
       "    </tr>\n",
       "    <tr>\n",
       "      <th>1713</th>\n",
       "      <td>2023-10-24</td>\n",
       "      <td>422.649994</td>\n",
       "      <td>424.820007</td>\n",
       "      <td>420.739990</td>\n",
       "      <td>423.630005</td>\n",
       "      <td>423.630005</td>\n",
       "      <td>78564200</td>\n",
       "      <td>2</td>\n",
       "      <td>0.753939</td>\n",
       "    </tr>\n",
       "    <tr>\n",
       "      <th>1714</th>\n",
       "      <td>2023-10-25</td>\n",
       "      <td>421.890015</td>\n",
       "      <td>421.920013</td>\n",
       "      <td>417.019989</td>\n",
       "      <td>417.549988</td>\n",
       "      <td>417.549988</td>\n",
       "      <td>94223200</td>\n",
       "      <td>0</td>\n",
       "      <td>-1.435219</td>\n",
       "    </tr>\n",
       "    <tr>\n",
       "      <th>1715</th>\n",
       "      <td>2023-10-26</td>\n",
       "      <td>416.450012</td>\n",
       "      <td>417.329987</td>\n",
       "      <td>411.600006</td>\n",
       "      <td>412.549988</td>\n",
       "      <td>412.549988</td>\n",
       "      <td>115156800</td>\n",
       "      <td>0</td>\n",
       "      <td>-1.197461</td>\n",
       "    </tr>\n",
       "    <tr>\n",
       "      <th>1716</th>\n",
       "      <td>2023-10-27</td>\n",
       "      <td>414.190002</td>\n",
       "      <td>414.600006</td>\n",
       "      <td>409.209991</td>\n",
       "      <td>410.679993</td>\n",
       "      <td>410.679993</td>\n",
       "      <td>107228400</td>\n",
       "      <td>0</td>\n",
       "      <td>-0.453277</td>\n",
       "    </tr>\n",
       "    <tr>\n",
       "      <th>1717</th>\n",
       "      <td>2023-10-30</td>\n",
       "      <td>413.559998</td>\n",
       "      <td>416.679993</td>\n",
       "      <td>412.220001</td>\n",
       "      <td>415.589996</td>\n",
       "      <td>415.589996</td>\n",
       "      <td>86562700</td>\n",
       "      <td>2</td>\n",
       "      <td>1.195579</td>\n",
       "    </tr>\n",
       "  </tbody>\n",
       "</table>\n",
       "<p>1718 rows × 9 columns</p>\n",
       "</div>"
      ],
      "text/plain": [
       "            date        open        high         low       close   adj close  \\\n",
       "0     2017-01-03  225.039993  225.830002  223.880005  225.240005  200.629639   \n",
       "1     2017-01-04  225.619995  226.750000  225.610001  226.580002  201.823273   \n",
       "2     2017-01-05  226.270004  226.580002  225.479996  226.399994  201.662949   \n",
       "3     2017-01-06  226.529999  227.750000  225.899994  227.210007  202.384445   \n",
       "4     2017-01-09  226.910004  227.070007  226.419998  226.460007  201.716431   \n",
       "...          ...         ...         ...         ...         ...         ...   \n",
       "1713  2023-10-24  422.649994  424.820007  420.739990  423.630005  423.630005   \n",
       "1714  2023-10-25  421.890015  421.920013  417.019989  417.549988  417.549988   \n",
       "1715  2023-10-26  416.450012  417.329987  411.600006  412.549988  412.549988   \n",
       "1716  2023-10-27  414.190002  414.600006  409.209991  410.679993  410.679993   \n",
       "1717  2023-10-30  413.559998  416.679993  412.220001  415.589996  415.589996   \n",
       "\n",
       "         volume labels  perc_relative_diff  \n",
       "0      91366500      1            0.000000  \n",
       "1      78744400      2            0.594919  \n",
       "2      78379000      1           -0.079446  \n",
       "3      71559900      2            0.357780  \n",
       "4      46939700      0           -0.330091  \n",
       "...         ...    ...                 ...  \n",
       "1713   78564200      2            0.753939  \n",
       "1714   94223200      0           -1.435219  \n",
       "1715  115156800      0           -1.197461  \n",
       "1716  107228400      0           -0.453277  \n",
       "1717   86562700      2            1.195579  \n",
       "\n",
       "[1718 rows x 9 columns]"
      ]
     },
     "execution_count": 7,
     "metadata": {},
     "output_type": "execute_result"
    }
   ],
   "source": [
    "data"
   ]
  },
  {
   "cell_type": "code",
   "execution_count": null,
   "metadata": {},
   "outputs": [],
   "source": [
    "df_train, df_test = data_splitter(raw_data=data)"
   ]
  },
  {
   "cell_type": "code",
   "execution_count": null,
   "metadata": {},
   "outputs": [],
   "source": [
    "# Visualize the relative percentage changes.\n",
    "fig, (ax1, ax2) = plt.subplots(nrows=1, ncols=2, sharey=True,  figsize=(15, 8))\n",
    "\n",
    "sns.histplot(data=df_train, binwidth=0.1, x=\"perc_relative_diff\", hue=\"labels\", ax=ax1)\n",
    "ax1.set_ylabel('Count')\n",
    "ax1.set_xlabel('% Relative difference')\n",
    "ax1.set_title('Train dataset')\n",
    "ax1.grid()\n",
    "\n",
    "sns.histplot(data=df_test, binwidth=0.1, x=\"perc_relative_diff\", hue=\"labels\", ax=ax2)\n",
    "ax2.set_ylabel('Count')\n",
    "ax2.set_xlabel('% Relative difference')\n",
    "ax2.set_title('Test dataset')\n",
    "ax2.grid()"
   ]
  },
  {
   "cell_type": "code",
   "execution_count": null,
   "metadata": {},
   "outputs": [],
   "source": [
    "# Create the environment.\n",
    "env = environments.Forecasting(\n",
    "    df=df_train, window_size=PARAMETERS.WINDOW_SIZE\n",
    ")"
   ]
  },
  {
   "cell_type": "code",
   "execution_count": null,
   "metadata": {},
   "outputs": [],
   "source": [
    "# Random walk.\n",
    "state = env.reset(seed=2008)\n",
    "\n",
    "while True:\n",
    "    # Sample action from space.\n",
    "    action = env.action_space.sample()\n",
    "    n_state, reward, done, truncated, info = env.step(\n",
    "        action=action\n",
    "    )\n",
    "\n",
    "    if done or truncated:\n",
    "        print('info', info, '\\n')\n",
    "        break"
   ]
  },
  {
   "cell_type": "code",
   "execution_count": null,
   "metadata": {},
   "outputs": [],
   "source": [
    "plt.figure(figsize=(15, 6))\n",
    "plt.cla()\n",
    "env.render_all(title='Random walk.')\n",
    "plt.show()"
   ]
  },
  {
   "cell_type": "code",
   "execution_count": null,
   "metadata": {},
   "outputs": [],
   "source": [
    "y_true, y_pred = df_train['labels'].to_numpy()[PARAMETERS.WINDOW_SIZE + 1:], env.actions_history"
   ]
  },
  {
   "cell_type": "code",
   "execution_count": null,
   "metadata": {},
   "outputs": [],
   "source": [
    "performance = evaluation_metrics(\n",
    "    y_true=y_true,\n",
    "    y_pred=y_pred,\n",
    "    target_names=['down', 'no', 'up']\n",
    ")"
   ]
  },
  {
   "cell_type": "code",
   "execution_count": null,
   "metadata": {},
   "outputs": [],
   "source": [
    "print(dumps(performance, indent=4))"
   ]
  },
  {
   "cell_type": "code",
   "execution_count": null,
   "metadata": {},
   "outputs": [],
   "source": [
    "# Train Environment\n",
    "model = A2C('MlpPolicy', env, verbose=1) \n",
    "model.learn(total_timesteps=PARAMETERS.TIMESTEPS)"
   ]
  },
  {
   "cell_type": "code",
   "execution_count": null,
   "metadata": {},
   "outputs": [],
   "source": [
    "env = environments.Forecasting(\n",
    "    df=df_test, window_size=PARAMETERS.WINDOW_SIZE\n",
    ")\n",
    "\n",
    "observation, info = env.reset()\n",
    "\n",
    "while True: \n",
    "    observation = observation[np.newaxis, ...]\n",
    "    action, _states = model.predict(observation)\n",
    "    observation, rewards, done, truncated, info = env.step(action)\n",
    "    if done or truncated:\n",
    "        print('info', info, '\\n')\n",
    "        break"
   ]
  },
  {
   "cell_type": "code",
   "execution_count": null,
   "metadata": {},
   "outputs": [],
   "source": [
    "plt.figure(figsize=(15, 6))\n",
    "plt.cla()\n",
    "env.render_all(title='Experiment')\n",
    "plt.show()"
   ]
  },
  {
   "cell_type": "code",
   "execution_count": null,
   "metadata": {},
   "outputs": [],
   "source": [
    "y_true, y_pred = df_test['labels'].to_numpy()[PARAMETERS.WINDOW_SIZE + 1:], np.concatenate(env.actions_history)"
   ]
  },
  {
   "cell_type": "code",
   "execution_count": null,
   "metadata": {},
   "outputs": [],
   "source": [
    "performance = evaluation_metrics(\n",
    "    y_true=y_true,\n",
    "    y_pred=y_pred,\n",
    "    target_names=['down', 'no', 'up']\n",
    ")"
   ]
  },
  {
   "cell_type": "code",
   "execution_count": null,
   "metadata": {},
   "outputs": [],
   "source": [
    "print(dumps(performance, indent=4))"
   ]
  },
  {
   "cell_type": "markdown",
   "metadata": {},
   "source": [
    "## Performance explanation"
   ]
  },
  {
   "cell_type": "markdown",
   "metadata": {},
   "source": [
    "Precision = $\\frac{TP}{TP + FP}$\n",
    "\n",
    "Recall =  $\\frac{TP}{TP + FN}$\n",
    "\n",
    "F1 = $\\frac{2}{Precision^{-1} + Precision^{-1}}$"
   ]
  }
 ],
 "metadata": {
  "kernelspec": {
   "display_name": "venvpp",
   "language": "python",
   "name": "python3"
  },
  "language_info": {
   "codemirror_mode": {
    "name": "ipython",
    "version": 3
   },
   "file_extension": ".py",
   "mimetype": "text/x-python",
   "name": "python",
   "nbconvert_exporter": "python",
   "pygments_lexer": "ipython3",
   "version": "3.10.12"
  }
 },
 "nbformat": 4,
 "nbformat_minor": 2
}
