{
 "cells": [
  {
   "cell_type": "markdown",
   "metadata": {},
   "source": [
    "# Laboratory\n",
    "\n",
    "**Author: @THEFFTKID**\n",
    "\n",
    "Main notebook for experimentation."
   ]
  },
  {
   "cell_type": "code",
   "execution_count": 3,
   "metadata": {},
   "outputs": [
    {
     "name": "stdout",
     "output_type": "stream",
     "text": [
      "C:\\Users\\DELL\\PedroPina\\forecasting\n"
     ]
    }
   ],
   "source": [
    "cd ~/PedroPina/forecasting"
   ]
  },
  {
   "cell_type": "code",
   "execution_count": 4,
   "metadata": {},
   "outputs": [],
   "source": [
    "from mlflow import MlflowClient\n",
    "import mlflow"
   ]
  },
  {
   "cell_type": "code",
   "execution_count": 5,
   "metadata": {},
   "outputs": [],
   "source": [
    "# Flag experiment.\n",
    "new_experiment = False\n",
    "# Name\n",
    "experiment_name = \"A2C\"\n",
    "# Description.\n",
    "experiment_description = (\n",
    "    \"Index - Stock forecasting project.\"\n",
    "    \"This experiment contains the models using AC2 policy.\"\n",
    ")\n",
    "# Tags\n",
    "experiment_tags = {\n",
    "    \"project_name\": \"Continous update policy\",\n",
    "    \"mlflow.note.content\": experiment_description,\n",
    "}\n",
    "# TODO: Change each time.\n",
    "run_name = \"dynamic_threshold\"\n"
   ]
  },
  {
   "cell_type": "code",
   "execution_count": 6,
   "metadata": {},
   "outputs": [],
   "source": [
    "client = MlflowClient(tracking_uri=\"http://127.0.0.1:8080\")"
   ]
  },
  {
   "cell_type": "code",
   "execution_count": 7,
   "metadata": {},
   "outputs": [],
   "source": [
    "if new_experiment:\n",
    "    # Creates the MLflow experiment.\n",
    "    produce_experiment = client.create_experiment(\n",
    "        name=experiment_name,\n",
    "        tags=experiment_tags\n",
    "    )"
   ]
  },
  {
   "cell_type": "code",
   "execution_count": 20,
   "metadata": {},
   "outputs": [],
   "source": [
    "import matplotlib.pyplot as plt\n",
    "import pandas as pd\n",
    "import environments\n",
    "import dataclasses\n",
    "import numpy as np\n",
    "import evaluation\n",
    "import utils\n",
    "\n",
    "from dynamic_threshold import define_threshold\n",
    "from stable_baselines3 import A2C\n",
    "from typing import List\n",
    "from dataclasses import dataclass\n",
    "from json import dumps"
   ]
  },
  {
   "cell_type": "code",
   "execution_count": 21,
   "metadata": {},
   "outputs": [],
   "source": [
    "# Use the fluent API to set the tracking uri and the active experiment.\n",
    "mlflow.set_tracking_uri(\"http://127.0.0.1:8080\")\n",
    "\n",
    "# Sets the current active experiment to the \"index_forecast\" experiment and returns the experiment metadata.\n",
    "experiment = mlflow.set_experiment(experiment_name)\n",
    "\n",
    "# Define a run name for this iteration of training.\n",
    "# If this is not set, a unique name will be auto-generated for your run.\n",
    "# run_name = \"dynamic_threshold\"\n",
    "\n",
    "# Define an artifact path that the model will be saved to.\n",
    "artifact_path = \"a2c_index\""
   ]
  },
  {
   "cell_type": "code",
   "execution_count": 22,
   "metadata": {},
   "outputs": [],
   "source": [
    "# Model parameters.\n",
    "@dataclass\n",
    "class ModelParameters:\n",
    "    time_steps: int\n",
    "    window_size: int\n",
    "    data_path: str\n",
    "    lower_threshold: float\n",
    "    upper_threshold: float\n",
    "    proportion: float\n",
    "    features: List[str]"
   ]
  },
  {
   "cell_type": "code",
   "execution_count": 33,
   "metadata": {},
   "outputs": [],
   "source": [
    "def train_experiment(parameters: ModelParameters):\n",
    "    \"\"\"\n",
    "    Wrapper function for MLflow model versioning\n",
    "    \"\"\"\n",
    "    # Read data.\n",
    "    data = pd.read_csv(filepath_or_buffer=parameters.data_path)\n",
    "    # Cast columns.\n",
    "    data.columns = data.columns.str.lower()\n",
    "\n",
    "    data['labels'], data['perc_relative_diff'] = evaluation.create_labels(\n",
    "        x=data['close'],\n",
    "        labels=[0, 1, 2],\n",
    "        perc_bounds=[\n",
    "            parameters.lower_threshold,\n",
    "            parameters.upper_threshold\n",
    "        ]\n",
    "    )\n",
    "    \n",
    "    # Split dataset into train and test.\n",
    "    df_train, df_test = evaluation.data_splitter(\n",
    "        raw_data=data,\n",
    "        proportion=parameters.proportion\n",
    "    )\n",
    "\n",
    "    # Create the environment.\n",
    "    env = environments.Forecasting(\n",
    "        df=df_train,\n",
    "        window_size=parameters.window_size,\n",
    "        series_features=parameters.features,\n",
    "        lower_threshold=parameters.lower_threshold,\n",
    "        upper_threshold=parameters.upper_threshold\n",
    "    )\n",
    "\n",
    "    # Train environment.\n",
    "    model = A2C('MlpPolicy', env, verbose=1)\n",
    "    # Learn.\n",
    "    model.learn(total_timesteps=parameters.time_steps)\n",
    "\n",
    "    # Initialize a new environment with test-set.\n",
    "    env_test = environments.Forecasting(\n",
    "        df=df_test,\n",
    "        window_size=parameters.window_size,\n",
    "        series_features=parameters.features,\n",
    "        lower_threshold=parameters.lower_threshold,\n",
    "        upper_threshold=parameters.upper_threshold\n",
    "    )\n",
    "\n",
    "    # Reset environment.\n",
    "    observation, info = env_test.reset(\n",
    "        upper_threshold=env.up_threshold,\n",
    "        lower_threshold=env.low_threshold\n",
    "    )\n",
    "\n",
    "    while True: \n",
    "        observation = observation[np.newaxis, ...]\n",
    "        action, states = model.predict(observation)\n",
    "        observation, rewards, done, truncated, info = env_test.step(action)\n",
    "        if done or truncated:\n",
    "            print('info', info, '\\n')\n",
    "            break\n",
    "    \n",
    "    y_true = df_test['labels'].to_numpy()[parameters.window_size + 1:]\n",
    "    y_pred = np.concatenate(env_test.actions_history)\n",
    "\n",
    "    performance = evaluation.evaluation_metrics(\n",
    "        y_true=y_true,\n",
    "        y_pred=y_pred,\n",
    "        target_names=['down', 'no', 'up']\n",
    "    )\n",
    "\n",
    "    print(dumps(performance, indent=4))\n",
    "\n",
    "    # Logging params and metrics to MLflow.\n",
    "    metrics = utils.flatten_dict(d=performance)\n",
    "\n",
    "    # Log the parameters used for the model fit.\n",
    "    mlflow.log_params(params=dataclasses.asdict(parameters))\n",
    "\n",
    "    # Log the error metrics that were calculated during validation.\n",
    "    mlflow.log_metrics(metrics=metrics)\n",
    "\n",
    "    # TODO: Log an instance of the trained model for later use."
   ]
  },
  {
   "cell_type": "code",
   "execution_count": 34,
   "metadata": {},
   "outputs": [],
   "source": [
    "# Experiment parameters.\n",
    "parameters = ModelParameters(\n",
    "    time_steps=500,\n",
    "    window_size=10,\n",
    "    data_path='~/PedroPina/data/SPY_20122016.csv',\n",
    "    lower_threshold=.5,\n",
    "    upper_threshold=.5,\n",
    "    proportion=0.8,\n",
    "    features= [\n",
    "        'open',\n",
    "        'high',\n",
    "        'low',\n",
    "        'volume_roc',\n",
    "        'n10_rolling_mean',\n",
    "        'n10_weighted_rolling_mean',\n",
    "        'momentum',\n",
    "        'close',\n",
    "        'nday_tendency_removal'\n",
    "    ]\n",
    ")"
   ]
  },
  {
   "cell_type": "code",
   "execution_count": 35,
   "metadata": {},
   "outputs": [
    {
     "name": "stdout",
     "output_type": "stream",
     "text": [
      "Using cpu device\n",
      "Wrapping the env with a `Monitor` wrapper\n",
      "Wrapping the env in a DummyVecEnv.\n",
      "------------------------------------\n",
      "| time/                 |          |\n",
      "|    fps                | 637      |\n",
      "|    iterations         | 100      |\n",
      "|    time_elapsed       | 0        |\n",
      "|    total_timesteps    | 500      |\n",
      "| train/                |          |\n",
      "|    entropy_loss       | -0.49    |\n",
      "|    explained_variance | -0.0281  |\n",
      "|    learning_rate      | 0.0007   |\n",
      "|    n_updates          | 99       |\n",
      "|    policy_loss        | 0.334    |\n",
      "|    value_loss         | 0.15     |\n",
      "------------------------------------\n",
      "info {'total_reward': 118.88998599999991} \n",
      "\n"
     ]
    },
    {
     "data": {
      "image/png": "[encoded data removed]",
      "text/plain": [
       "<Figure size 640x480 with 2 Axes>"
      ]
     },
     "metadata": {},
     "output_type": "display_data"
    },
    {
     "name": "stdout",
     "output_type": "stream",
     "text": [
      "{\n",
      "    \"down\": {\n",
      "        \"precision\": 0.39690721649484534,\n",
      "        \"recall\": 0.7938144329896907,\n",
      "        \"f1-score\": 0.529209621993127,\n",
      "        \"support\": 97.0\n",
      "    },\n",
      "    \"no\": {\n",
      "        \"precision\": 0.0,\n",
      "        \"recall\": 0.0,\n",
      "        \"f1-score\": 0.0,\n",
      "        \"support\": 29.0\n",
      "    },\n",
      "    \"up\": {\n",
      "        \"precision\": 0.4146341463414634,\n",
      "        \"recall\": 0.14782608695652175,\n",
      "        \"f1-score\": 0.21794871794871798,\n",
      "        \"support\": 115.0\n",
      "    },\n",
      "    \"accuracy\": 0.3900414937759336,\n",
      "    \"macro avg\": {\n",
      "        \"precision\": 0.27051378761210293,\n",
      "        \"recall\": 0.31388017331540413,\n",
      "        \"f1-score\": 0.249052779980615,\n",
      "        \"support\": 241.0\n",
      "    },\n",
      "    \"weighted avg\": {\n",
      "        \"precision\": 0.3576055055156361,\n",
      "        \"recall\": 0.3900414937759336,\n",
      "        \"f1-score\": 0.31700180870305344,\n",
      "        \"support\": 241.0\n",
      "    }\n",
      "}\n"
     ]
    }
   ],
   "source": [
    "# Run for save the model.\n",
    "with mlflow.start_run(run_name=run_name) as run:\n",
    "    train_experiment(parameters=parameters)"
   ]
  },
  {
   "cell_type": "code",
   "execution_count": null,
   "metadata": {},
   "outputs": [],
   "source": []
  }
 ],
 "metadata": {
  "kernelspec": {
   "display_name": "venvpp",
   "language": "python",
   "name": "python3"
  },
  "language_info": {
   "codemirror_mode": {
    "name": "ipython",
    "version": 3
   },
   "file_extension": ".py",
   "mimetype": "text/x-python",
   "name": "python",
   "nbconvert_exporter": "python",
   "pygments_lexer": "ipython3",
   "version": "3.8.0"
  }
 },
 "nbformat": 4,
 "nbformat_minor": 2
}
