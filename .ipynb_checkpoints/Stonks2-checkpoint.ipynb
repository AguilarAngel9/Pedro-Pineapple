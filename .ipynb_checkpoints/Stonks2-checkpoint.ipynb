{
 "cells": [
  {
   "cell_type": "markdown",
   "id": "0d5e930b-5179-4269-979b-39fd8663b4f9",
   "metadata": {},
   "source": [
    "# 0. Import all the dependencies for the project"
   ]
  },
  {
   "cell_type": "code",
   "execution_count": 1,
   "id": "4b6cde78-54cf-404c-a28c-f2caeefd2d5a",
   "metadata": {
    "tags": []
   },
   "outputs": [],
   "source": [
    "# Gym stuff\n",
    "import gymnasium as gym\n",
    "import gym_anytrading\n",
    "\n",
    "# Stable baselines - rl stuff\n",
    "from stable_baselines3.common.vec_env import DummyVecEnv\n",
    "from stable_baselines3 import A2C\n",
    "\n",
    "# Main libraries\n",
    "import numpy as np\n",
    "import pandas as pd\n",
    "import matplotlib.pyplot as plt"
   ]
  },
  {
   "cell_type": "markdown",
   "id": "dacdce1c-b77c-481a-b71d-876e2a74314e",
   "metadata": {},
   "source": [
    "# 1. Bring the data down\n",
    "Download the data and process it with pandas"
   ]
  },
  {
   "cell_type": "code",
   "execution_count": 2,
   "id": "172d66c9-9164-473f-86e0-28d4f1c439d3",
   "metadata": {
    "tags": []
   },
   "outputs": [
    {
     "data": {
      "text/html": [
       "<div>\n",
       "<style scoped>\n",
       "    .dataframe tbody tr th:only-of-type {\n",
       "        vertical-align: middle;\n",
       "    }\n",
       "\n",
       "    .dataframe tbody tr th {\n",
       "        vertical-align: top;\n",
       "    }\n",
       "\n",
       "    .dataframe thead th {\n",
       "        text-align: right;\n",
       "    }\n",
       "</style>\n",
       "<table border=\"1\" class=\"dataframe\">\n",
       "  <thead>\n",
       "    <tr style=\"text-align: right;\">\n",
       "      <th></th>\n",
       "      <th>Date</th>\n",
       "      <th>Open</th>\n",
       "      <th>High</th>\n",
       "      <th>Low</th>\n",
       "      <th>Close</th>\n",
       "      <th>Volume</th>\n",
       "    </tr>\n",
       "  </thead>\n",
       "  <tbody>\n",
       "    <tr>\n",
       "      <th>0</th>\n",
       "      <td>03/12/2021</td>\n",
       "      <td>275.00</td>\n",
       "      <td>295.50</td>\n",
       "      <td>262.27</td>\n",
       "      <td>264.5</td>\n",
       "      <td>25,845,900</td>\n",
       "    </tr>\n",
       "    <tr>\n",
       "      <th>1</th>\n",
       "      <td>03/11/2021</td>\n",
       "      <td>241.64</td>\n",
       "      <td>281.50</td>\n",
       "      <td>232.60</td>\n",
       "      <td>260.0</td>\n",
       "      <td>28,312,490</td>\n",
       "    </tr>\n",
       "    <tr>\n",
       "      <th>2</th>\n",
       "      <td>03/10/2021</td>\n",
       "      <td>269.43</td>\n",
       "      <td>348.50</td>\n",
       "      <td>172.00</td>\n",
       "      <td>265.0</td>\n",
       "      <td>71,570,570</td>\n",
       "    </tr>\n",
       "    <tr>\n",
       "      <th>3</th>\n",
       "      <td>03/09/2021</td>\n",
       "      <td>217.71</td>\n",
       "      <td>249.85</td>\n",
       "      <td>208.51</td>\n",
       "      <td>246.9</td>\n",
       "      <td>39,099,328</td>\n",
       "    </tr>\n",
       "    <tr>\n",
       "      <th>4</th>\n",
       "      <td>03/08/2021</td>\n",
       "      <td>154.89</td>\n",
       "      <td>210.87</td>\n",
       "      <td>146.10</td>\n",
       "      <td>194.5</td>\n",
       "      <td>63,565,621</td>\n",
       "    </tr>\n",
       "  </tbody>\n",
       "</table>\n",
       "</div>"
      ],
      "text/plain": [
       "         Date    Open    High     Low  Close      Volume\n",
       "0  03/12/2021  275.00  295.50  262.27  264.5  25,845,900\n",
       "1  03/11/2021  241.64  281.50  232.60  260.0  28,312,490\n",
       "2  03/10/2021  269.43  348.50  172.00  265.0  71,570,570\n",
       "3  03/09/2021  217.71  249.85  208.51  246.9  39,099,328\n",
       "4  03/08/2021  154.89  210.87  146.10  194.5  63,565,621"
      ]
     },
     "execution_count": 2,
     "metadata": {},
     "output_type": "execute_result"
    }
   ],
   "source": [
    "# The .csv is readed and putted into a DataFrame\n",
    "df = pd.read_csv('gmedata.csv')\n",
    "df.head()"
   ]
  },
  {
   "cell_type": "code",
   "execution_count": 3,
   "id": "ee388283-e74a-48ad-97d7-f8446d1dd0b8",
   "metadata": {
    "tags": []
   },
   "outputs": [
    {
     "data": {
      "text/html": [
       "<div>\n",
       "<style scoped>\n",
       "    .dataframe tbody tr th:only-of-type {\n",
       "        vertical-align: middle;\n",
       "    }\n",
       "\n",
       "    .dataframe tbody tr th {\n",
       "        vertical-align: top;\n",
       "    }\n",
       "\n",
       "    .dataframe thead th {\n",
       "        text-align: right;\n",
       "    }\n",
       "</style>\n",
       "<table border=\"1\" class=\"dataframe\">\n",
       "  <thead>\n",
       "    <tr style=\"text-align: right;\">\n",
       "      <th></th>\n",
       "      <th>Date</th>\n",
       "      <th>Open</th>\n",
       "      <th>High</th>\n",
       "      <th>Low</th>\n",
       "      <th>Close</th>\n",
       "      <th>Volume</th>\n",
       "    </tr>\n",
       "  </thead>\n",
       "  <tbody>\n",
       "    <tr>\n",
       "      <th>0</th>\n",
       "      <td>2021-03-12</td>\n",
       "      <td>275.00</td>\n",
       "      <td>295.50</td>\n",
       "      <td>262.27</td>\n",
       "      <td>264.5</td>\n",
       "      <td>25,845,900</td>\n",
       "    </tr>\n",
       "    <tr>\n",
       "      <th>1</th>\n",
       "      <td>2021-03-11</td>\n",
       "      <td>241.64</td>\n",
       "      <td>281.50</td>\n",
       "      <td>232.60</td>\n",
       "      <td>260.0</td>\n",
       "      <td>28,312,490</td>\n",
       "    </tr>\n",
       "    <tr>\n",
       "      <th>2</th>\n",
       "      <td>2021-03-10</td>\n",
       "      <td>269.43</td>\n",
       "      <td>348.50</td>\n",
       "      <td>172.00</td>\n",
       "      <td>265.0</td>\n",
       "      <td>71,570,570</td>\n",
       "    </tr>\n",
       "    <tr>\n",
       "      <th>3</th>\n",
       "      <td>2021-03-09</td>\n",
       "      <td>217.71</td>\n",
       "      <td>249.85</td>\n",
       "      <td>208.51</td>\n",
       "      <td>246.9</td>\n",
       "      <td>39,099,328</td>\n",
       "    </tr>\n",
       "    <tr>\n",
       "      <th>4</th>\n",
       "      <td>2021-03-08</td>\n",
       "      <td>154.89</td>\n",
       "      <td>210.87</td>\n",
       "      <td>146.10</td>\n",
       "      <td>194.5</td>\n",
       "      <td>63,565,621</td>\n",
       "    </tr>\n",
       "  </tbody>\n",
       "</table>\n",
       "</div>"
      ],
      "text/plain": [
       "        Date    Open    High     Low  Close      Volume\n",
       "0 2021-03-12  275.00  295.50  262.27  264.5  25,845,900\n",
       "1 2021-03-11  241.64  281.50  232.60  260.0  28,312,490\n",
       "2 2021-03-10  269.43  348.50  172.00  265.0  71,570,570\n",
       "3 2021-03-09  217.71  249.85  208.51  246.9  39,099,328\n",
       "4 2021-03-08  154.89  210.87  146.10  194.5  63,565,621"
      ]
     },
     "execution_count": 3,
     "metadata": {},
     "output_type": "execute_result"
    }
   ],
   "source": [
    "# The column date is transformed to a datetime to make a better \n",
    "df['Date'] = pd.to_datetime(df['Date'])\n",
    "df.head()"
   ]
  },
  {
   "cell_type": "code",
   "execution_count": 4,
   "id": "424facc3-18e7-4b32-b5c3-b80fe8c87bab",
   "metadata": {
    "tags": []
   },
   "outputs": [
    {
     "data": {
      "text/plain": [
       "(251, 6)"
      ]
     },
     "execution_count": 4,
     "metadata": {},
     "output_type": "execute_result"
    }
   ],
   "source": [
    "# Check types of date in the DataFrma\n",
    "df.shape"
   ]
  },
  {
   "cell_type": "code",
   "execution_count": 5,
   "id": "649ab29f-739a-4920-96e5-e9cbe5bc6d9f",
   "metadata": {
    "tags": []
   },
   "outputs": [
    {
     "data": {
      "text/html": [
       "<div>\n",
       "<style scoped>\n",
       "    .dataframe tbody tr th:only-of-type {\n",
       "        vertical-align: middle;\n",
       "    }\n",
       "\n",
       "    .dataframe tbody tr th {\n",
       "        vertical-align: top;\n",
       "    }\n",
       "\n",
       "    .dataframe thead th {\n",
       "        text-align: right;\n",
       "    }\n",
       "</style>\n",
       "<table border=\"1\" class=\"dataframe\">\n",
       "  <thead>\n",
       "    <tr style=\"text-align: right;\">\n",
       "      <th></th>\n",
       "      <th>Open</th>\n",
       "      <th>High</th>\n",
       "      <th>Low</th>\n",
       "      <th>Close</th>\n",
       "      <th>Volume</th>\n",
       "    </tr>\n",
       "    <tr>\n",
       "      <th>Date</th>\n",
       "      <th></th>\n",
       "      <th></th>\n",
       "      <th></th>\n",
       "      <th></th>\n",
       "      <th></th>\n",
       "    </tr>\n",
       "  </thead>\n",
       "  <tbody>\n",
       "    <tr>\n",
       "      <th>2021-03-12</th>\n",
       "      <td>275.00</td>\n",
       "      <td>295.50</td>\n",
       "      <td>262.27</td>\n",
       "      <td>264.5</td>\n",
       "      <td>25,845,900</td>\n",
       "    </tr>\n",
       "    <tr>\n",
       "      <th>2021-03-11</th>\n",
       "      <td>241.64</td>\n",
       "      <td>281.50</td>\n",
       "      <td>232.60</td>\n",
       "      <td>260.0</td>\n",
       "      <td>28,312,490</td>\n",
       "    </tr>\n",
       "    <tr>\n",
       "      <th>2021-03-10</th>\n",
       "      <td>269.43</td>\n",
       "      <td>348.50</td>\n",
       "      <td>172.00</td>\n",
       "      <td>265.0</td>\n",
       "      <td>71,570,570</td>\n",
       "    </tr>\n",
       "    <tr>\n",
       "      <th>2021-03-09</th>\n",
       "      <td>217.71</td>\n",
       "      <td>249.85</td>\n",
       "      <td>208.51</td>\n",
       "      <td>246.9</td>\n",
       "      <td>39,099,328</td>\n",
       "    </tr>\n",
       "    <tr>\n",
       "      <th>2021-03-08</th>\n",
       "      <td>154.89</td>\n",
       "      <td>210.87</td>\n",
       "      <td>146.10</td>\n",
       "      <td>194.5</td>\n",
       "      <td>63,565,621</td>\n",
       "    </tr>\n",
       "  </tbody>\n",
       "</table>\n",
       "</div>"
      ],
      "text/plain": [
       "              Open    High     Low  Close      Volume\n",
       "Date                                                 \n",
       "2021-03-12  275.00  295.50  262.27  264.5  25,845,900\n",
       "2021-03-11  241.64  281.50  232.60  260.0  28,312,490\n",
       "2021-03-10  269.43  348.50  172.00  265.0  71,570,570\n",
       "2021-03-09  217.71  249.85  208.51  246.9  39,099,328\n",
       "2021-03-08  154.89  210.87  146.10  194.5  63,565,621"
      ]
     },
     "execution_count": 5,
     "metadata": {},
     "output_type": "execute_result"
    }
   ],
   "source": [
    "# We set the index as the date and replace the column\n",
    "df.set_index('Date', inplace=True)\n",
    "df.head()"
   ]
  },
  {
   "cell_type": "markdown",
   "id": "168f7ebb-444a-413a-bf82-b4914d40a4b3",
   "metadata": {},
   "source": [
    "# 2. Creation of the environment"
   ]
  },
  {
   "cell_type": "code",
   "execution_count": 6,
   "id": "7da408aa-c808-4e08-9963-ada0c67ab0ba",
   "metadata": {
    "tags": []
   },
   "outputs": [],
   "source": [
    "env = gym.make('stocks-v0', df=df, frame_bound=(5,100), window_size=5)"
   ]
  },
  {
   "cell_type": "code",
   "execution_count": 7,
   "id": "6d516641-7950-48bd-8d92-7bb414fad969",
   "metadata": {
    "tags": []
   },
   "outputs": [
    {
     "data": {
      "text/plain": [
       "{'_saved_kwargs': {'disable_render_order_enforcing': False},\n",
       " 'env': <PassiveEnvChecker<StocksEnv<stocks-v0>>>,\n",
       " '_action_space': None,\n",
       " '_observation_space': None,\n",
       " '_reward_range': None,\n",
       " '_metadata': None,\n",
       " '_cached_spec': None,\n",
       " '_has_reset': False,\n",
       " '_disable_render_order_enforcing': False}"
      ]
     },
     "execution_count": 7,
     "metadata": {},
     "output_type": "execute_result"
    }
   ],
   "source": [
    "# Check attributes in the environment\n",
    "env.__dict__"
   ]
  },
  {
   "cell_type": "code",
   "execution_count": 8,
   "id": "5b4d50cb-519e-4f4c-a510-b95691591b95",
   "metadata": {
    "tags": []
   },
   "outputs": [
    {
     "data": {
      "text/plain": [
       "array([[ 2.6450e+02,  0.0000e+00],\n",
       "       [ 2.6000e+02, -4.5000e+00],\n",
       "       [ 2.6500e+02,  5.0000e+00],\n",
       "       [ 2.4690e+02, -1.8100e+01],\n",
       "       [ 1.9450e+02, -5.2400e+01],\n",
       "       [ 1.3774e+02, -5.6760e+01],\n",
       "       [ 1.3235e+02, -5.3900e+00],\n",
       "       [ 1.2418e+02, -8.1700e+00],\n",
       "       [ 1.1818e+02, -6.0000e+00],\n",
       "       [ 1.2040e+02,  2.2200e+00],\n",
       "       [ 1.0174e+02, -1.8660e+01],\n",
       "       [ 1.0873e+02,  6.9900e+00],\n",
       "       [ 9.1710e+01, -1.7020e+01],\n",
       "       [ 4.4970e+01, -4.6740e+01],\n",
       "       [ 4.6000e+01,  1.0300e+00],\n",
       "       [ 4.0590e+01, -5.4100e+00],\n",
       "       [ 4.0690e+01,  1.0000e-01],\n",
       "       [ 4.5940e+01,  5.2500e+00],\n",
       "       [ 4.9510e+01,  3.5700e+00],\n",
       "       [ 5.2400e+01,  2.8900e+00],\n",
       "       [ 5.1100e+01, -1.3000e+00],\n",
       "       [ 5.1200e+01,  1.0000e-01],\n",
       "       [ 5.0310e+01, -8.9000e-01],\n",
       "       [ 6.0000e+01,  9.6900e+00],\n",
       "       [ 6.3770e+01,  3.7700e+00],\n",
       "       [ 5.3500e+01, -1.0270e+01],\n",
       "       [ 9.2410e+01,  3.8910e+01],\n",
       "       [ 9.0000e+01, -2.4100e+00],\n",
       "       [ 2.2500e+02,  1.3500e+02],\n",
       "       [ 3.2500e+02,  1.0000e+02],\n",
       "       [ 1.9360e+02, -1.3140e+02],\n",
       "       [ 3.4751e+02,  1.5391e+02],\n",
       "       [ 1.4798e+02, -1.9953e+02],\n",
       "       [ 7.6790e+01, -7.1190e+01],\n",
       "       [ 6.5010e+01, -1.1780e+01],\n",
       "       [ 4.3030e+01, -2.1980e+01],\n",
       "       [ 3.9120e+01, -3.9100e+00],\n",
       "       [ 3.9360e+01,  2.4000e-01],\n",
       "       [ 3.5500e+01, -3.8600e+00],\n",
       "       [ 3.9910e+01,  4.4100e+00],\n",
       "       [ 3.1400e+01, -8.5100e+00],\n",
       "       [ 1.9950e+01, -1.1450e+01],\n",
       "       [ 1.9940e+01, -1.0000e-02],\n",
       "       [ 1.7690e+01, -2.2500e+00],\n",
       "       [ 1.8080e+01,  3.9000e-01],\n",
       "       [ 1.8360e+01,  2.8000e-01],\n",
       "       [ 1.7370e+01, -9.9000e-01],\n",
       "       [ 1.7250e+01, -1.2000e-01],\n",
       "       [ 1.8840e+01,  1.5900e+00],\n",
       "       [ 1.9260e+01,  4.2000e-01],\n",
       "       [ 1.9380e+01,  1.2000e-01],\n",
       "       [ 2.0990e+01,  1.6100e+00],\n",
       "       [ 2.0150e+01, -8.4000e-01],\n",
       "       [ 2.0570e+01,  4.2000e-01],\n",
       "       [ 1.9460e+01, -1.1100e+00],\n",
       "       [ 1.5530e+01, -3.9300e+00],\n",
       "       [ 1.5630e+01,  1.0000e-01],\n",
       "       [ 1.4830e+01, -8.0000e-01],\n",
       "       [ 1.3850e+01, -9.8000e-01],\n",
       "       [ 1.3850e+01,  0.0000e+00],\n",
       "       [ 1.2720e+01, -1.1300e+00],\n",
       "       [ 1.3310e+01,  5.9000e-01],\n",
       "       [ 1.4120e+01,  8.1000e-01],\n",
       "       [ 1.3660e+01, -4.6000e-01],\n",
       "       [ 1.6940e+01,  3.2800e+00],\n",
       "       [ 1.6350e+01, -5.9000e-01],\n",
       "       [ 1.6900e+01,  5.5000e-01],\n",
       "       [ 1.6120e+01, -7.8000e-01],\n",
       "       [ 1.6580e+01,  4.6000e-01],\n",
       "       [ 1.5800e+01, -7.8000e-01],\n",
       "       [ 1.6560e+01,  7.6000e-01],\n",
       "       [ 1.6080e+01, -4.8000e-01],\n",
       "       [ 1.4750e+01, -1.3300e+00],\n",
       "       [ 1.3670e+01, -1.0800e+00],\n",
       "       [ 1.3900e+01,  2.3000e-01],\n",
       "       [ 1.2710e+01, -1.1900e+00],\n",
       "       [ 1.2460e+01, -2.5000e-01],\n",
       "       [ 1.1570e+01, -8.9000e-01],\n",
       "       [ 1.1630e+01,  6.0000e-02],\n",
       "       [ 1.2060e+01,  4.3000e-01],\n",
       "       [ 1.1010e+01, -1.0500e+00],\n",
       "       [ 1.1130e+01,  1.2000e-01],\n",
       "       [ 1.1750e+01,  6.2000e-01],\n",
       "       [ 1.1100e+01, -6.5000e-01],\n",
       "       [ 1.1490e+01,  3.9000e-01],\n",
       "       [ 1.1860e+01,  3.7000e-01],\n",
       "       [ 1.1450e+01, -4.1000e-01],\n",
       "       [ 1.0910e+01, -5.4000e-01],\n",
       "       [ 1.1570e+01,  6.6000e-01],\n",
       "       [ 1.0750e+01, -8.2000e-01],\n",
       "       [ 1.0470e+01, -2.8000e-01],\n",
       "       [ 1.1730e+01,  1.2600e+00],\n",
       "       [ 1.1820e+01,  9.0000e-02],\n",
       "       [ 1.2690e+01,  8.7000e-01],\n",
       "       [ 1.3450e+01,  7.6000e-01],\n",
       "       [ 1.5000e+01,  1.5500e+00],\n",
       "       [ 1.4910e+01, -9.0000e-02],\n",
       "       [ 1.4100e+01, -8.1000e-01],\n",
       "       [ 1.3860e+01, -2.4000e-01],\n",
       "       [ 1.3910e+01,  5.0000e-02]], dtype=float32)"
      ]
     },
     "execution_count": 8,
     "metadata": {},
     "output_type": "execute_result"
    }
   ],
   "source": [
    "# signal_features: Extracted features over time. Used to create Gym observations.\n",
    "env.unwrapped.signal_features"
   ]
  },
  {
   "cell_type": "markdown",
   "id": "589e2ea2-07a7-4797-af48-d60aaf166566",
   "metadata": {},
   "source": [
    "# 3. Build environment"
   ]
  },
  {
   "cell_type": "code",
   "execution_count": 9,
   "id": "0eb15809-5117-4347-9e05-3c51069ae02c",
   "metadata": {
    "tags": []
   },
   "outputs": [
    {
     "data": {
      "text/plain": [
       "Discrete(2)"
      ]
     },
     "execution_count": 9,
     "metadata": {},
     "output_type": "execute_result"
    }
   ],
   "source": [
    "env.action_space"
   ]
  },
  {
   "cell_type": "code",
   "execution_count": 10,
   "id": "10e9c139-8f39-4079-b892-93d6b2e48b99",
   "metadata": {
    "tags": []
   },
   "outputs": [
    {
     "name": "stdout",
     "output_type": "stream",
     "text": [
      "info {'total_reward': -27.460006713867188, 'total_profit': 0.7748260181907846, 'position': <Positions.Short: 0>} \n",
      "\n"
     ]
    },
    {
     "data": {
      "image/png": "[encoded data removed]",
      "text/plain": [
       "<Figure size 1500x600 with 1 Axes>"
      ]
     },
     "metadata": {},
     "output_type": "display_data"
    }
   ],
   "source": [
    "state = env.reset()\n",
    "while True: \n",
    "    action = env.action_space.sample()\n",
    "    n_state, reward, done,truncated, info = env.step(action)\n",
    "    if done or truncated : \n",
    "        print('info', info,'\\n')\n",
    "        break\n",
    "        \n",
    "plt.figure(figsize=(15,6))\n",
    "plt.cla()\n",
    "env.unwrapped.render_all()\n",
    "plt.show()"
   ]
  },
  {
   "cell_type": "code",
   "execution_count": 11,
   "id": "e66dd4ba-5307-47d7-b98f-4dd5475202ea",
   "metadata": {
    "tags": []
   },
   "outputs": [],
   "source": [
    "# Vectorize environment\n",
    "env_maker = lambda:gym.make('stocks-v0', df=df, frame_bound=(5,100), window_size=5)\n",
    "env = DummyVecEnv([env_maker])"
   ]
  },
  {
   "cell_type": "markdown",
   "id": "614d99c1-1eac-4565-8874-23470c380169",
   "metadata": {},
   "source": [
    "# 4. Train Environment"
   ]
  },
  {
   "cell_type": "code",
   "execution_count": 12,
   "id": "ad0ed9d1-9628-42e1-bad5-696943829aaf",
   "metadata": {
    "tags": []
   },
   "outputs": [
    {
     "name": "stdout",
     "output_type": "stream",
     "text": [
      "Using cpu device\n",
      "----------------------------------\n",
      "| rollout/            |          |\n",
      "|    exploration_rate | 0.821    |\n",
      "| time/               |          |\n",
      "|    episodes         | 4        |\n",
      "|    fps              | 11699    |\n",
      "|    time_elapsed     | 0        |\n",
      "|    total_timesteps  | 376      |\n",
      "----------------------------------\n",
      "----------------------------------\n",
      "| rollout/            |          |\n",
      "|    exploration_rate | 0.643    |\n",
      "| time/               |          |\n",
      "|    episodes         | 8        |\n",
      "|    fps              | 11037    |\n",
      "|    time_elapsed     | 0        |\n",
      "|    total_timesteps  | 752      |\n",
      "----------------------------------\n",
      "----------------------------------\n",
      "| rollout/            |          |\n",
      "|    exploration_rate | 0.464    |\n",
      "| time/               |          |\n",
      "|    episodes         | 12       |\n",
      "|    fps              | 10940    |\n",
      "|    time_elapsed     | 0        |\n",
      "|    total_timesteps  | 1128     |\n",
      "----------------------------------\n",
      "----------------------------------\n",
      "| rollout/            |          |\n",
      "|    exploration_rate | 0.286    |\n",
      "| time/               |          |\n",
      "|    episodes         | 16       |\n",
      "|    fps              | 10728    |\n",
      "|    time_elapsed     | 0        |\n",
      "|    total_timesteps  | 1504     |\n",
      "----------------------------------\n",
      "----------------------------------\n",
      "| rollout/            |          |\n",
      "|    exploration_rate | 0.107    |\n",
      "| time/               |          |\n",
      "|    episodes         | 20       |\n",
      "|    fps              | 10854    |\n",
      "|    time_elapsed     | 0        |\n",
      "|    total_timesteps  | 1880     |\n",
      "----------------------------------\n",
      "----------------------------------\n",
      "| rollout/            |          |\n",
      "|    exploration_rate | 0.05     |\n",
      "| time/               |          |\n",
      "|    episodes         | 24       |\n",
      "|    fps              | 10933    |\n",
      "|    time_elapsed     | 0        |\n",
      "|    total_timesteps  | 2256     |\n",
      "----------------------------------\n",
      "----------------------------------\n",
      "| rollout/            |          |\n",
      "|    exploration_rate | 0.05     |\n",
      "| time/               |          |\n",
      "|    episodes         | 28       |\n",
      "|    fps              | 10977    |\n",
      "|    time_elapsed     | 0        |\n",
      "|    total_timesteps  | 2632     |\n",
      "----------------------------------\n",
      "----------------------------------\n",
      "| rollout/            |          |\n",
      "|    exploration_rate | 0.05     |\n",
      "| time/               |          |\n",
      "|    episodes         | 32       |\n",
      "|    fps              | 10980    |\n",
      "|    time_elapsed     | 0        |\n",
      "|    total_timesteps  | 3008     |\n",
      "----------------------------------\n",
      "----------------------------------\n",
      "| rollout/            |          |\n",
      "|    exploration_rate | 0.05     |\n",
      "| time/               |          |\n",
      "|    episodes         | 36       |\n",
      "|    fps              | 11016    |\n",
      "|    time_elapsed     | 0        |\n",
      "|    total_timesteps  | 3384     |\n",
      "----------------------------------\n",
      "----------------------------------\n",
      "| rollout/            |          |\n",
      "|    exploration_rate | 0.05     |\n",
      "| time/               |          |\n",
      "|    episodes         | 40       |\n",
      "|    fps              | 11019    |\n",
      "|    time_elapsed     | 0        |\n",
      "|    total_timesteps  | 3760     |\n",
      "----------------------------------\n",
      "----------------------------------\n",
      "| rollout/            |          |\n",
      "|    exploration_rate | 0.05     |\n",
      "| time/               |          |\n",
      "|    episodes         | 44       |\n",
      "|    fps              | 10936    |\n",
      "|    time_elapsed     | 0        |\n",
      "|    total_timesteps  | 4136     |\n",
      "----------------------------------\n",
      "----------------------------------\n",
      "| rollout/            |          |\n",
      "|    exploration_rate | 0.05     |\n",
      "| time/               |          |\n",
      "|    episodes         | 48       |\n",
      "|    fps              | 10997    |\n",
      "|    time_elapsed     | 0        |\n",
      "|    total_timesteps  | 4512     |\n",
      "----------------------------------\n",
      "----------------------------------\n",
      "| rollout/            |          |\n",
      "|    exploration_rate | 0.05     |\n",
      "| time/               |          |\n",
      "|    episodes         | 52       |\n",
      "|    fps              | 11024    |\n",
      "|    time_elapsed     | 0        |\n",
      "|    total_timesteps  | 4888     |\n",
      "----------------------------------\n",
      "----------------------------------\n",
      "| rollout/            |          |\n",
      "|    exploration_rate | 0.05     |\n",
      "| time/               |          |\n",
      "|    episodes         | 56       |\n",
      "|    fps              | 11058    |\n",
      "|    time_elapsed     | 0        |\n",
      "|    total_timesteps  | 5264     |\n",
      "----------------------------------\n",
      "----------------------------------\n",
      "| rollout/            |          |\n",
      "|    exploration_rate | 0.05     |\n",
      "| time/               |          |\n",
      "|    episodes         | 60       |\n",
      "|    fps              | 11067    |\n",
      "|    time_elapsed     | 0        |\n",
      "|    total_timesteps  | 5640     |\n",
      "----------------------------------\n",
      "----------------------------------\n",
      "| rollout/            |          |\n",
      "|    exploration_rate | 0.05     |\n",
      "| time/               |          |\n",
      "|    episodes         | 64       |\n",
      "|    fps              | 11105    |\n",
      "|    time_elapsed     | 0        |\n",
      "|    total_timesteps  | 6016     |\n",
      "----------------------------------\n",
      "----------------------------------\n",
      "| rollout/            |          |\n",
      "|    exploration_rate | 0.05     |\n",
      "| time/               |          |\n",
      "|    episodes         | 68       |\n",
      "|    fps              | 11115    |\n",
      "|    time_elapsed     | 0        |\n",
      "|    total_timesteps  | 6392     |\n",
      "----------------------------------\n",
      "----------------------------------\n",
      "| rollout/            |          |\n",
      "|    exploration_rate | 0.05     |\n",
      "| time/               |          |\n",
      "|    episodes         | 72       |\n",
      "|    fps              | 11137    |\n",
      "|    time_elapsed     | 0        |\n",
      "|    total_timesteps  | 6768     |\n",
      "----------------------------------\n",
      "----------------------------------\n",
      "| rollout/            |          |\n",
      "|    exploration_rate | 0.05     |\n",
      "| time/               |          |\n",
      "|    episodes         | 76       |\n",
      "|    fps              | 11132    |\n",
      "|    time_elapsed     | 0        |\n",
      "|    total_timesteps  | 7144     |\n",
      "----------------------------------\n",
      "----------------------------------\n",
      "| rollout/            |          |\n",
      "|    exploration_rate | 0.05     |\n",
      "| time/               |          |\n",
      "|    episodes         | 80       |\n",
      "|    fps              | 11077    |\n",
      "|    time_elapsed     | 0        |\n",
      "|    total_timesteps  | 7520     |\n",
      "----------------------------------\n",
      "----------------------------------\n",
      "| rollout/            |          |\n",
      "|    exploration_rate | 0.05     |\n",
      "| time/               |          |\n",
      "|    episodes         | 84       |\n",
      "|    fps              | 11046    |\n",
      "|    time_elapsed     | 0        |\n",
      "|    total_timesteps  | 7896     |\n",
      "----------------------------------\n",
      "----------------------------------\n",
      "| rollout/            |          |\n",
      "|    exploration_rate | 0.05     |\n",
      "| time/               |          |\n",
      "|    episodes         | 88       |\n",
      "|    fps              | 11046    |\n",
      "|    time_elapsed     | 0        |\n",
      "|    total_timesteps  | 8272     |\n",
      "----------------------------------\n",
      "----------------------------------\n",
      "| rollout/            |          |\n",
      "|    exploration_rate | 0.05     |\n",
      "| time/               |          |\n",
      "|    episodes         | 92       |\n",
      "|    fps              | 11032    |\n",
      "|    time_elapsed     | 0        |\n",
      "|    total_timesteps  | 8648     |\n",
      "----------------------------------\n",
      "----------------------------------\n",
      "| rollout/            |          |\n",
      "|    exploration_rate | 0.05     |\n",
      "| time/               |          |\n",
      "|    episodes         | 96       |\n",
      "|    fps              | 11045    |\n",
      "|    time_elapsed     | 0        |\n",
      "|    total_timesteps  | 9024     |\n",
      "----------------------------------\n",
      "----------------------------------\n",
      "| rollout/            |          |\n",
      "|    exploration_rate | 0.05     |\n",
      "| time/               |          |\n",
      "|    episodes         | 100      |\n",
      "|    fps              | 11048    |\n",
      "|    time_elapsed     | 0        |\n",
      "|    total_timesteps  | 9400     |\n",
      "----------------------------------\n",
      "----------------------------------\n",
      "| rollout/            |          |\n",
      "|    exploration_rate | 0.05     |\n",
      "| time/               |          |\n",
      "|    episodes         | 104      |\n",
      "|    fps              | 10982    |\n",
      "|    time_elapsed     | 0        |\n",
      "|    total_timesteps  | 9776     |\n",
      "----------------------------------\n",
      "----------------------------------\n",
      "| rollout/            |          |\n",
      "|    exploration_rate | 0.05     |\n",
      "| time/               |          |\n",
      "|    episodes         | 108      |\n",
      "|    fps              | 10973    |\n",
      "|    time_elapsed     | 0        |\n",
      "|    total_timesteps  | 10152    |\n",
      "----------------------------------\n",
      "----------------------------------\n",
      "| rollout/            |          |\n",
      "|    exploration_rate | 0.05     |\n",
      "| time/               |          |\n",
      "|    episodes         | 112      |\n",
      "|    fps              | 10988    |\n",
      "|    time_elapsed     | 0        |\n",
      "|    total_timesteps  | 10528    |\n",
      "----------------------------------\n",
      "----------------------------------\n",
      "| rollout/            |          |\n",
      "|    exploration_rate | 0.05     |\n",
      "| time/               |          |\n",
      "|    episodes         | 116      |\n",
      "|    fps              | 10990    |\n",
      "|    time_elapsed     | 0        |\n",
      "|    total_timesteps  | 10904    |\n",
      "----------------------------------\n",
      "----------------------------------\n",
      "| rollout/            |          |\n",
      "|    exploration_rate | 0.05     |\n",
      "| time/               |          |\n",
      "|    episodes         | 120      |\n",
      "|    fps              | 11003    |\n",
      "|    time_elapsed     | 1        |\n",
      "|    total_timesteps  | 11280    |\n",
      "----------------------------------\n",
      "----------------------------------\n",
      "| rollout/            |          |\n",
      "|    exploration_rate | 0.05     |\n",
      "| time/               |          |\n",
      "|    episodes         | 124      |\n",
      "|    fps              | 11017    |\n",
      "|    time_elapsed     | 1        |\n",
      "|    total_timesteps  | 11656    |\n",
      "----------------------------------\n",
      "----------------------------------\n",
      "| rollout/            |          |\n",
      "|    exploration_rate | 0.05     |\n",
      "| time/               |          |\n",
      "|    episodes         | 128      |\n",
      "|    fps              | 11013    |\n",
      "|    time_elapsed     | 1        |\n",
      "|    total_timesteps  | 12032    |\n",
      "----------------------------------\n",
      "----------------------------------\n",
      "| rollout/            |          |\n",
      "|    exploration_rate | 0.05     |\n",
      "| time/               |          |\n",
      "|    episodes         | 132      |\n",
      "|    fps              | 11024    |\n",
      "|    time_elapsed     | 1        |\n",
      "|    total_timesteps  | 12408    |\n",
      "----------------------------------\n",
      "----------------------------------\n",
      "| rollout/            |          |\n",
      "|    exploration_rate | 0.05     |\n",
      "| time/               |          |\n",
      "|    episodes         | 136      |\n",
      "|    fps              | 11027    |\n",
      "|    time_elapsed     | 1        |\n",
      "|    total_timesteps  | 12784    |\n",
      "----------------------------------\n",
      "----------------------------------\n",
      "| rollout/            |          |\n",
      "|    exploration_rate | 0.05     |\n",
      "| time/               |          |\n",
      "|    episodes         | 140      |\n",
      "|    fps              | 11031    |\n",
      "|    time_elapsed     | 1        |\n",
      "|    total_timesteps  | 13160    |\n",
      "----------------------------------\n",
      "----------------------------------\n",
      "| rollout/            |          |\n",
      "|    exploration_rate | 0.05     |\n",
      "| time/               |          |\n",
      "|    episodes         | 144      |\n",
      "|    fps              | 11020    |\n",
      "|    time_elapsed     | 1        |\n",
      "|    total_timesteps  | 13536    |\n",
      "----------------------------------\n",
      "----------------------------------\n",
      "| rollout/            |          |\n",
      "|    exploration_rate | 0.05     |\n",
      "| time/               |          |\n",
      "|    episodes         | 148      |\n",
      "|    fps              | 11013    |\n",
      "|    time_elapsed     | 1        |\n",
      "|    total_timesteps  | 13912    |\n",
      "----------------------------------\n",
      "----------------------------------\n",
      "| rollout/            |          |\n",
      "|    exploration_rate | 0.05     |\n",
      "| time/               |          |\n",
      "|    episodes         | 152      |\n",
      "|    fps              | 11024    |\n",
      "|    time_elapsed     | 1        |\n",
      "|    total_timesteps  | 14288    |\n",
      "----------------------------------\n",
      "----------------------------------\n",
      "| rollout/            |          |\n",
      "|    exploration_rate | 0.05     |\n",
      "| time/               |          |\n",
      "|    episodes         | 156      |\n",
      "|    fps              | 11032    |\n",
      "|    time_elapsed     | 1        |\n",
      "|    total_timesteps  | 14664    |\n",
      "----------------------------------\n",
      "----------------------------------\n",
      "| rollout/            |          |\n",
      "|    exploration_rate | 0.05     |\n",
      "| time/               |          |\n",
      "|    episodes         | 160      |\n",
      "|    fps              | 11039    |\n",
      "|    time_elapsed     | 1        |\n",
      "|    total_timesteps  | 15040    |\n",
      "----------------------------------\n",
      "----------------------------------\n",
      "| rollout/            |          |\n",
      "|    exploration_rate | 0.05     |\n",
      "| time/               |          |\n",
      "|    episodes         | 164      |\n",
      "|    fps              | 11053    |\n",
      "|    time_elapsed     | 1        |\n",
      "|    total_timesteps  | 15416    |\n",
      "----------------------------------\n",
      "----------------------------------\n",
      "| rollout/            |          |\n",
      "|    exploration_rate | 0.05     |\n",
      "| time/               |          |\n",
      "|    episodes         | 168      |\n",
      "|    fps              | 11060    |\n",
      "|    time_elapsed     | 1        |\n",
      "|    total_timesteps  | 15792    |\n",
      "----------------------------------\n",
      "----------------------------------\n",
      "| rollout/            |          |\n",
      "|    exploration_rate | 0.05     |\n",
      "| time/               |          |\n",
      "|    episodes         | 172      |\n",
      "|    fps              | 11067    |\n",
      "|    time_elapsed     | 1        |\n",
      "|    total_timesteps  | 16168    |\n",
      "----------------------------------\n",
      "----------------------------------\n",
      "| rollout/            |          |\n",
      "|    exploration_rate | 0.05     |\n",
      "| time/               |          |\n",
      "|    episodes         | 176      |\n",
      "|    fps              | 11072    |\n",
      "|    time_elapsed     | 1        |\n",
      "|    total_timesteps  | 16544    |\n",
      "----------------------------------\n",
      "----------------------------------\n",
      "| rollout/            |          |\n",
      "|    exploration_rate | 0.05     |\n",
      "| time/               |          |\n",
      "|    episodes         | 180      |\n",
      "|    fps              | 11086    |\n",
      "|    time_elapsed     | 1        |\n",
      "|    total_timesteps  | 16920    |\n",
      "----------------------------------\n",
      "----------------------------------\n",
      "| rollout/            |          |\n",
      "|    exploration_rate | 0.05     |\n",
      "| time/               |          |\n",
      "|    episodes         | 184      |\n",
      "|    fps              | 11091    |\n",
      "|    time_elapsed     | 1        |\n",
      "|    total_timesteps  | 17296    |\n",
      "----------------------------------\n",
      "----------------------------------\n",
      "| rollout/            |          |\n",
      "|    exploration_rate | 0.05     |\n",
      "| time/               |          |\n",
      "|    episodes         | 188      |\n",
      "|    fps              | 11091    |\n",
      "|    time_elapsed     | 1        |\n",
      "|    total_timesteps  | 17672    |\n",
      "----------------------------------\n",
      "----------------------------------\n",
      "| rollout/            |          |\n",
      "|    exploration_rate | 0.05     |\n",
      "| time/               |          |\n",
      "|    episodes         | 192      |\n",
      "|    fps              | 11086    |\n",
      "|    time_elapsed     | 1        |\n",
      "|    total_timesteps  | 18048    |\n",
      "----------------------------------\n",
      "----------------------------------\n",
      "| rollout/            |          |\n",
      "|    exploration_rate | 0.05     |\n",
      "| time/               |          |\n",
      "|    episodes         | 196      |\n",
      "|    fps              | 11092    |\n",
      "|    time_elapsed     | 1        |\n",
      "|    total_timesteps  | 18424    |\n",
      "----------------------------------\n",
      "----------------------------------\n",
      "| rollout/            |          |\n",
      "|    exploration_rate | 0.05     |\n",
      "| time/               |          |\n",
      "|    episodes         | 200      |\n",
      "|    fps              | 11098    |\n",
      "|    time_elapsed     | 1        |\n",
      "|    total_timesteps  | 18800    |\n",
      "----------------------------------\n",
      "----------------------------------\n",
      "| rollout/            |          |\n",
      "|    exploration_rate | 0.05     |\n",
      "| time/               |          |\n",
      "|    episodes         | 204      |\n",
      "|    fps              | 11088    |\n",
      "|    time_elapsed     | 1        |\n",
      "|    total_timesteps  | 19176    |\n",
      "----------------------------------\n",
      "----------------------------------\n",
      "| rollout/            |          |\n",
      "|    exploration_rate | 0.05     |\n",
      "| time/               |          |\n",
      "|    episodes         | 208      |\n",
      "|    fps              | 11068    |\n",
      "|    time_elapsed     | 1        |\n",
      "|    total_timesteps  | 19552    |\n",
      "----------------------------------\n",
      "----------------------------------\n",
      "| rollout/            |          |\n",
      "|    exploration_rate | 0.05     |\n",
      "| time/               |          |\n",
      "|    episodes         | 212      |\n",
      "|    fps              | 11065    |\n",
      "|    time_elapsed     | 1        |\n",
      "|    total_timesteps  | 19928    |\n",
      "----------------------------------\n"
     ]
    },
    {
     "data": {
      "text/plain": [
       "<stable_baselines3.dqn.dqn.DQN at 0x2c5c8c6ac70>"
      ]
     },
     "execution_count": 12,
     "metadata": {},
     "output_type": "execute_result"
    }
   ],
   "source": [
    "model = A2C('MlpPolicy', env, verbose=1) \n",
    "model.learn(total_timesteps=20000)"
   ]
  },
  {
   "cell_type": "markdown",
   "id": "85c880f7-fdb0-496f-ba98-5331ed495121",
   "metadata": {},
   "source": [
    "# 5. Evaluate environment"
   ]
  },
  {
   "cell_type": "code",
   "execution_count": 13,
   "id": "592e3d4c-a196-4560-8a1c-da64883adf35",
   "metadata": {
    "tags": []
   },
   "outputs": [],
   "source": [
    "from stable_baselines3.common.evaluation import evaluate_policy"
   ]
  },
  {
   "cell_type": "code",
   "execution_count": 17,
   "id": "0605317e-95c2-4572-8248-592f2808d2d8",
   "metadata": {
    "tags": []
   },
   "outputs": [
    {
     "data": {
      "text/plain": [
       "(-21.740001678466797, 0.0)"
      ]
     },
     "execution_count": 17,
     "metadata": {},
     "output_type": "execute_result"
    }
   ],
   "source": [
    "evaluate_policy(model, env, n_eval_episodes=10)"
   ]
  },
  {
   "cell_type": "markdown",
   "id": "52fc737b-4e0e-4c84-93ff-169abd37d0c7",
   "metadata": {},
   "source": [
    "# 5. Tesr Environment"
   ]
  },
  {
   "cell_type": "code",
   "execution_count": 18,
   "id": "7618d4fd-a885-46f8-a2a2-6caaa94a0189",
   "metadata": {
    "tags": []
   },
   "outputs": [
    {
     "name": "stdout",
     "output_type": "stream",
     "text": [
      "info [{'total_reward': -26.73000144958496, 'total_profit': 0.5444624881828923, 'position': <Positions.Short: 0>, 'TimeLimit.truncated': True, 'terminal_observation': array([[15.  ,  1.55],\n",
      "       [14.91, -0.09],\n",
      "       [14.1 , -0.81],\n",
      "       [13.86, -0.24],\n",
      "       [13.91,  0.05]], dtype=float32)}]\n"
     ]
    }
   ],
   "source": [
    "obs = env.reset()\n",
    "while True:\n",
    "    action, _states = model.predict(obs)\n",
    "    obs, rewards, done, info = env.step(action)\n",
    "    env.render()\n",
    "    if done: \n",
    "        print('info', info)\n",
    "        break"
   ]
  },
  {
   "cell_type": "code",
   "execution_count": 19,
   "id": "5dff1599-22d4-40eb-a44e-5f4372361c2d",
   "metadata": {
    "tags": []
   },
   "outputs": [
    {
     "data": {
      "image/png": "[encoded data removed]",
      "text/plain": [
       "<Figure size 1500x600 with 1 Axes>"
      ]
     },
     "metadata": {},
     "output_type": "display_data"
    }
   ],
   "source": [
    "plt.figure(figsize=(15,6))\n",
    "plt.cla()\n",
    "env.render()\n",
    "plt.show()"
   ]
  },
  {
   "cell_type": "code",
   "execution_count": 49,
   "id": "4fa48d8e-9a96-4def-a416-fb94238e365c",
   "metadata": {
    "tags": []
   },
   "outputs": [
    {
     "data": {
      "text/plain": [
       "False"
      ]
     },
     "execution_count": 49,
     "metadata": {},
     "output_type": "execute_result"
    }
   ],
   "source": [
    "done"
   ]
  },
  {
   "cell_type": "code",
   "execution_count": 50,
   "id": "6a56f297-8dbe-4eb1-b503-48906fc5394c",
   "metadata": {
    "tags": []
   },
   "outputs": [
    {
     "data": {
      "text/plain": [
       "True"
      ]
     },
     "execution_count": 50,
     "metadata": {},
     "output_type": "execute_result"
    }
   ],
   "source": [
    "truncated"
   ]
  },
  {
   "cell_type": "code",
   "execution_count": null,
   "id": "7d38cc0f-9715-448a-bf07-a09d4ae3699a",
   "metadata": {},
   "outputs": [],
   "source": []
  }
 ],
 "metadata": {
  "kernelspec": {
   "display_name": "Python 3 (ipykernel)",
   "language": "python",
   "name": "python3"
  },
  "language_info": {
   "codemirror_mode": {
    "name": "ipython",
    "version": 3
   },
   "file_extension": ".py",
   "mimetype": "text/x-python",
   "name": "python",
   "nbconvert_exporter": "python",
   "pygments_lexer": "ipython3",
   "version": "3.9.18"
  }
 },
 "nbformat": 4,
 "nbformat_minor": 5
}
