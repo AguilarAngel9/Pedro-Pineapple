{
 "cells": [
  {
   "cell_type": "markdown",
   "metadata": {},
   "source": [
    "# Division of experiments\n",
    "**By: @Juan0rt72**"
   ]
  },
  {
   "cell_type": "code",
   "execution_count": 1,
   "metadata": {},
   "outputs": [],
   "source": [
    "import numpy as np\n",
    "import pandas as pd"
   ]
  },
  {
   "cell_type": "code",
   "execution_count": 49,
   "metadata": {},
   "outputs": [
    {
     "data": {
      "text/plain": [
       "(5,)"
      ]
     },
     "execution_count": 49,
     "metadata": {},
     "output_type": "execute_result"
    }
   ],
   "source": [
    "quantity_exp = 5\n",
    "\n",
    "w_size = np.arange(10,10 + quantity_exp)\n",
    "up_thres = np.linspace(0.5,0.6,quantity_exp)\n",
    "down_thres = np.linspace(0.4,0.5,quantity_exp)\n",
    "training_p = np.round(np.linspace(0.7,.9,quantity_exp),3)\n",
    "\n",
    "signal_qfeatures = np.arange(6,6 + quantity_exp)\n",
    "learning_steps = np.round(np.linspace(500,1500,quantity_exp))\n",
    "\n",
    "training_p.shape"
   ]
  },
  {
   "cell_type": "code",
   "execution_count": 50,
   "metadata": {},
   "outputs": [],
   "source": [
    "\n",
    "df = pd.DataFrame(data = {'window_size':w_size,\n",
    "                          'up_threshold': up_thres,\n",
    "                          'down_threshold':down_thres,\n",
    "                          'training_proportion':training_p,\n",
    "                          'Quantity of features':signal_qfeatures,\n",
    "                          'Learning_steps':learning_steps\n",
    "                          })"
   ]
  },
  {
   "cell_type": "code",
   "execution_count": 51,
   "metadata": {},
   "outputs": [
    {
     "data": {
      "text/html": [
       "<div>\n",
       "<style scoped>\n",
       "    .dataframe tbody tr th:only-of-type {\n",
       "        vertical-align: middle;\n",
       "    }\n",
       "\n",
       "    .dataframe tbody tr th {\n",
       "        vertical-align: top;\n",
       "    }\n",
       "\n",
       "    .dataframe thead th {\n",
       "        text-align: right;\n",
       "    }\n",
       "</style>\n",
       "<table border=\"1\" class=\"dataframe\">\n",
       "  <thead>\n",
       "    <tr style=\"text-align: right;\">\n",
       "      <th></th>\n",
       "      <th>window_size</th>\n",
       "      <th>up_threshold</th>\n",
       "      <th>down_threshold</th>\n",
       "      <th>training_proportion</th>\n",
       "      <th>Quantity of features</th>\n",
       "      <th>Learning_steps</th>\n",
       "    </tr>\n",
       "  </thead>\n",
       "  <tbody>\n",
       "    <tr>\n",
       "      <th>0</th>\n",
       "      <td>10</td>\n",
       "      <td>0.500</td>\n",
       "      <td>0.400</td>\n",
       "      <td>0.70</td>\n",
       "      <td>6</td>\n",
       "      <td>500.0</td>\n",
       "    </tr>\n",
       "    <tr>\n",
       "      <th>1</th>\n",
       "      <td>11</td>\n",
       "      <td>0.525</td>\n",
       "      <td>0.425</td>\n",
       "      <td>0.75</td>\n",
       "      <td>7</td>\n",
       "      <td>750.0</td>\n",
       "    </tr>\n",
       "    <tr>\n",
       "      <th>2</th>\n",
       "      <td>12</td>\n",
       "      <td>0.550</td>\n",
       "      <td>0.450</td>\n",
       "      <td>0.80</td>\n",
       "      <td>8</td>\n",
       "      <td>1000.0</td>\n",
       "    </tr>\n",
       "    <tr>\n",
       "      <th>3</th>\n",
       "      <td>13</td>\n",
       "      <td>0.575</td>\n",
       "      <td>0.475</td>\n",
       "      <td>0.85</td>\n",
       "      <td>9</td>\n",
       "      <td>1250.0</td>\n",
       "    </tr>\n",
       "    <tr>\n",
       "      <th>4</th>\n",
       "      <td>14</td>\n",
       "      <td>0.600</td>\n",
       "      <td>0.500</td>\n",
       "      <td>0.90</td>\n",
       "      <td>10</td>\n",
       "      <td>1500.0</td>\n",
       "    </tr>\n",
       "  </tbody>\n",
       "</table>\n",
       "</div>"
      ],
      "text/plain": [
       "   window_size  up_threshold  down_threshold  training_proportion  \\\n",
       "0           10         0.500           0.400                 0.70   \n",
       "1           11         0.525           0.425                 0.75   \n",
       "2           12         0.550           0.450                 0.80   \n",
       "3           13         0.575           0.475                 0.85   \n",
       "4           14         0.600           0.500                 0.90   \n",
       "\n",
       "   Quantity of features  Learning_steps  \n",
       "0                     6           500.0  \n",
       "1                     7           750.0  \n",
       "2                     8          1000.0  \n",
       "3                     9          1250.0  \n",
       "4                    10          1500.0  "
      ]
     },
     "execution_count": 51,
     "metadata": {},
     "output_type": "execute_result"
    }
   ],
   "source": [
    "df"
   ]
  },
  {
   "cell_type": "code",
   "execution_count": null,
   "metadata": {},
   "outputs": [],
   "source": []
  }
 ],
 "metadata": {
  "kernelspec": {
   "display_name": "venvpp",
   "language": "python",
   "name": "python3"
  },
  "language_info": {
   "codemirror_mode": {
    "name": "ipython",
    "version": 3
   },
   "file_extension": ".py",
   "mimetype": "text/x-python",
   "name": "python",
   "nbconvert_exporter": "python",
   "pygments_lexer": "ipython3",
   "version": "3.8.0"
  }
 },
 "nbformat": 4,
 "nbformat_minor": 2
}
