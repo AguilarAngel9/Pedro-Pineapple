{
 "cells": [
  {
   "cell_type": "code",
   "execution_count": 14,
   "metadata": {},
   "outputs": [
    {
     "name": "stdout",
     "output_type": "stream",
     "text": [
      "Requirement already satisfied: graphviz in c:\\users\\e-raguirrer\\appdata\\local\\programs\\python\\python39\\lib\\site-packages (0.20.1)\n",
      "Note: you may need to restart the kernel to use updated packages.\n"
     ]
    },
    {
     "name": "stderr",
     "output_type": "stream",
     "text": [
      "WARNING: Ignoring invalid distribution -ip (c:\\users\\e-raguirrer\\appdata\\local\\programs\\python\\python39\\lib\\site-packages)\n",
      "WARNING: Ignoring invalid distribution -ip (c:\\users\\e-raguirrer\\appdata\\local\\programs\\python\\python39\\lib\\site-packages)\n"
     ]
    }
   ],
   "source": [
    "%pip install graphviz"
   ]
  },
  {
   "cell_type": "code",
   "execution_count": 13,
   "metadata": {},
   "outputs": [],
   "source": [
    "import torch\n",
    "import torch.nn as nn\n",
    "from torchviz import make_dot\n",
    "\n",
    "# Define the neural network architecture\n",
    "class ActorCriticPolicy(nn.Module):\n",
    "    def __init__(self):\n",
    "        super(ActorCriticPolicy, self).__init__()\n",
    "\n",
    "        self.features_extractor = nn.Flatten()\n",
    "        self.pi_features_extractor = nn.Flatten()\n",
    "        self.vf_features_extractor = nn.Flatten()\n",
    "\n",
    "        self.mlp_extractor = nn.Sequential(\n",
    "            nn.Linear(20, 64),\n",
    "            nn.Tanh(),\n",
    "            nn.Linear(64, 64),\n",
    "            nn.Tanh()\n",
    "        )\n",
    "\n",
    "        self.action_net = nn.Linear(64, 2)  # Output for actions\n",
    "        self.value_net = nn.Linear(64, 1)   # Output for value estimation\n",
    "\n",
    "    def forward(self, x):\n",
    "        x = self.features_extractor(x)\n",
    "        pi_x = self.pi_features_extractor(x)\n",
    "        vf_x = self.vf_features_extractor(x)\n",
    "\n",
    "        mlp_output = self.mlp_extractor(x)\n",
    "\n",
    "        action_output = self.action_net(mlp_output)\n",
    "        value_output = self.value_net(mlp_output)\n",
    "\n",
    "        return action_output, value_output\n",
    "\n",
    "# Create an instance of the model\n",
    "model = ActorCriticPolicy()\n",
    "\n",
    "# Generate a visualization of the individual components\n",
    "x = torch.randn(1, 20)  # Example input\n",
    "\n",
    "# Add torch.no_grad() context manager\n",
    "with torch.no_grad():\n",
    "    features_extractor_output = model.features_extractor(x)\n",
    "    mlp_output = model.mlp_extractor(features_extractor_output)\n",
    "    action_output = model.action_net(mlp_output)\n",
    "    value_output = model.value_net(mlp_output)\n",
    "\n",
    "# Create separate visualizations for each component\n",
    "dot1 = make_dot(features_extractor_output, params=dict(model.named_parameters()))\n",
    "dot2 = make_dot(mlp_output, params=dict(model.named_parameters()))\n",
    "dot3 = make_dot(action_output, params=dict(model.named_parameters()))\n",
    "dot4 = make_dot(value_output, params=dict(model.named_parameters()))\n",
    "\n",
    "# Save the visualizations to files or display them\n",
    "for i, dot in enumerate([dot1, dot2, dot3, dot4], start=1):\n",
    "    dot.format = 'png'  # You can change the format to 'svg' or other supported formats\n",
    "    dot.render(f\"component_{i}\")\n"
   ]
  }
 ],
 "metadata": {
  "kernelspec": {
   "display_name": "Python 3",
   "language": "python",
   "name": "python3"
  },
  "language_info": {
   "codemirror_mode": {
    "name": "ipython",
    "version": 3
   },
   "file_extension": ".py",
   "mimetype": "text/x-python",
   "name": "python",
   "nbconvert_exporter": "python",
   "pygments_lexer": "ipython3",
   "version": "3.9.13"
  }
 },
 "nbformat": 4,
 "nbformat_minor": 2
}
