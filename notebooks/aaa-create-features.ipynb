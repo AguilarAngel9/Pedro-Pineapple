{
 "cells": [
  {
   "cell_type": "markdown",
   "metadata": {},
   "source": [
    "# Feature engineering"
   ]
  },
  {
   "cell_type": "markdown",
   "metadata": {},
   "source": [
<<<<<<< HEAD
    "So far we have been only using the close price and the relative differences as features.\n",
    "\n",
    "Therefore, more advanced finance indicators are proposed and implemented."
=======
    "So far we have been only using the close price and the relative differences as features."
>>>>>>> 5bbaccf470cdf9c17f321340711afa4ea697c1b1
   ]
  },
  {
   "cell_type": "code",
   "execution_count": 1,
   "metadata": {},
   "outputs": [
    {
     "name": "stdout",
     "output_type": "stream",
     "text": [
      "/home/aargaez/downloads/Pedro-Pineapple\n"
     ]
    }
   ],
   "source": [
    "cd ~/downloads/Pedro-Pineapple"
   ]
  },
  {
   "cell_type": "code",
   "execution_count": 2,
   "metadata": {},
   "outputs": [],
   "source": [
    "import pandas as pd\n",
    "import numpy as np"
   ]
  },
  {
   "cell_type": "code",
   "execution_count": 3,
   "metadata": {},
   "outputs": [],
   "source": [
<<<<<<< HEAD
    "# Read data.\n",
=======
>>>>>>> 5bbaccf470cdf9c17f321340711afa4ea697c1b1
    "data = pd.read_csv('experiments/SPY_data.csv')"
   ]
  },
  {
   "cell_type": "code",
<<<<<<< HEAD
   "execution_count": 4,
   "metadata": {},
   "outputs": [],
   "source": [
    "# Format columns\n",
    "data.columns = data.columns.str.lower()"
=======
   "execution_count": null,
   "metadata": {},
   "outputs": [],
   "source": [
    "data"
>>>>>>> 5bbaccf470cdf9c17f321340711afa4ea697c1b1
   ]
  },
  {
   "cell_type": "code",
<<<<<<< HEAD
   "execution_count": 5,
   "metadata": {},
   "outputs": [],
   "source": [
    "# Sort values by date.\n",
    "data.sort_values(by=['date'], inplace=True)"
   ]
  },
  {
   "cell_type": "code",
   "execution_count": 6,
   "metadata": {},
   "outputs": [
    {
     "data": {
      "text/html": [
       "<div>\n",
       "<style scoped>\n",
       "    .dataframe tbody tr th:only-of-type {\n",
       "        vertical-align: middle;\n",
       "    }\n",
       "\n",
       "    .dataframe tbody tr th {\n",
       "        vertical-align: top;\n",
       "    }\n",
       "\n",
       "    .dataframe thead th {\n",
       "        text-align: right;\n",
       "    }\n",
       "</style>\n",
       "<table border=\"1\" class=\"dataframe\">\n",
       "  <thead>\n",
       "    <tr style=\"text-align: right;\">\n",
       "      <th></th>\n",
       "      <th>date</th>\n",
       "      <th>open</th>\n",
       "      <th>high</th>\n",
       "      <th>low</th>\n",
       "      <th>close</th>\n",
       "      <th>adj close</th>\n",
       "      <th>volume</th>\n",
       "    </tr>\n",
       "  </thead>\n",
       "  <tbody>\n",
       "    <tr>\n",
       "      <th>0</th>\n",
       "      <td>2017-01-03</td>\n",
       "      <td>225.039993</td>\n",
       "      <td>225.830002</td>\n",
       "      <td>223.880005</td>\n",
       "      <td>225.240005</td>\n",
       "      <td>200.629639</td>\n",
       "      <td>91366500</td>\n",
       "    </tr>\n",
       "    <tr>\n",
       "      <th>1</th>\n",
       "      <td>2017-01-04</td>\n",
       "      <td>225.619995</td>\n",
       "      <td>226.750000</td>\n",
       "      <td>225.610001</td>\n",
       "      <td>226.580002</td>\n",
       "      <td>201.823273</td>\n",
       "      <td>78744400</td>\n",
       "    </tr>\n",
       "    <tr>\n",
       "      <th>2</th>\n",
       "      <td>2017-01-05</td>\n",
       "      <td>226.270004</td>\n",
       "      <td>226.580002</td>\n",
       "      <td>225.479996</td>\n",
       "      <td>226.399994</td>\n",
       "      <td>201.662949</td>\n",
       "      <td>78379000</td>\n",
       "    </tr>\n",
       "    <tr>\n",
       "      <th>3</th>\n",
       "      <td>2017-01-06</td>\n",
       "      <td>226.529999</td>\n",
       "      <td>227.750000</td>\n",
       "      <td>225.899994</td>\n",
       "      <td>227.210007</td>\n",
       "      <td>202.384445</td>\n",
       "      <td>71559900</td>\n",
       "    </tr>\n",
       "    <tr>\n",
       "      <th>4</th>\n",
       "      <td>2017-01-09</td>\n",
       "      <td>226.910004</td>\n",
       "      <td>227.070007</td>\n",
       "      <td>226.419998</td>\n",
       "      <td>226.460007</td>\n",
       "      <td>201.716431</td>\n",
       "      <td>46939700</td>\n",
       "    </tr>\n",
       "    <tr>\n",
       "      <th>5</th>\n",
       "      <td>2017-01-10</td>\n",
       "      <td>226.479996</td>\n",
       "      <td>227.449997</td>\n",
       "      <td>226.009995</td>\n",
       "      <td>226.460007</td>\n",
       "      <td>201.716431</td>\n",
       "      <td>63771900</td>\n",
       "    </tr>\n",
       "    <tr>\n",
       "      <th>6</th>\n",
       "      <td>2017-01-11</td>\n",
       "      <td>226.360001</td>\n",
       "      <td>227.100006</td>\n",
       "      <td>225.589996</td>\n",
       "      <td>227.100006</td>\n",
       "      <td>202.286438</td>\n",
       "      <td>74650000</td>\n",
       "    </tr>\n",
       "    <tr>\n",
       "      <th>7</th>\n",
       "      <td>2017-01-12</td>\n",
       "      <td>226.500000</td>\n",
       "      <td>226.750000</td>\n",
       "      <td>224.960007</td>\n",
       "      <td>226.529999</td>\n",
       "      <td>201.778732</td>\n",
       "      <td>72113200</td>\n",
       "    </tr>\n",
       "    <tr>\n",
       "      <th>8</th>\n",
       "      <td>2017-01-13</td>\n",
       "      <td>226.729996</td>\n",
       "      <td>227.399994</td>\n",
       "      <td>226.690002</td>\n",
       "      <td>227.050003</td>\n",
       "      <td>202.241882</td>\n",
       "      <td>62717900</td>\n",
       "    </tr>\n",
       "    <tr>\n",
       "      <th>9</th>\n",
       "      <td>2017-01-17</td>\n",
       "      <td>226.309998</td>\n",
       "      <td>226.779999</td>\n",
       "      <td>225.800003</td>\n",
       "      <td>226.250000</td>\n",
       "      <td>201.529343</td>\n",
       "      <td>61240800</td>\n",
       "    </tr>\n",
       "  </tbody>\n",
       "</table>\n",
       "</div>"
      ],
      "text/plain": [
       "         date        open        high         low       close   adj close  \\\n",
       "0  2017-01-03  225.039993  225.830002  223.880005  225.240005  200.629639   \n",
       "1  2017-01-04  225.619995  226.750000  225.610001  226.580002  201.823273   \n",
       "2  2017-01-05  226.270004  226.580002  225.479996  226.399994  201.662949   \n",
       "3  2017-01-06  226.529999  227.750000  225.899994  227.210007  202.384445   \n",
       "4  2017-01-09  226.910004  227.070007  226.419998  226.460007  201.716431   \n",
       "5  2017-01-10  226.479996  227.449997  226.009995  226.460007  201.716431   \n",
       "6  2017-01-11  226.360001  227.100006  225.589996  227.100006  202.286438   \n",
       "7  2017-01-12  226.500000  226.750000  224.960007  226.529999  201.778732   \n",
       "8  2017-01-13  226.729996  227.399994  226.690002  227.050003  202.241882   \n",
       "9  2017-01-17  226.309998  226.779999  225.800003  226.250000  201.529343   \n",
       "\n",
       "     volume  \n",
       "0  91366500  \n",
       "1  78744400  \n",
       "2  78379000  \n",
       "3  71559900  \n",
       "4  46939700  \n",
       "5  63771900  \n",
       "6  74650000  \n",
       "7  72113200  \n",
       "8  62717900  \n",
       "9  61240800  "
      ]
     },
     "execution_count": 6,
     "metadata": {},
     "output_type": "execute_result"
    }
   ],
   "source": [
    "data.head(10)"
   ]
  },
  {
   "cell_type": "code",
   "execution_count": 7,
   "metadata": {},
   "outputs": [],
   "source": [
    "def n_rolling_mean(\n",
    "    x_: pd.Series, n: int\n",
    ") -> pd.Series:\n",
    "    return x_.rolling(window=n).mean().fillna(0)\n",
    "\n",
    "def weigted_n_moving_avg(\n",
    "    x_: pd.Series, n: int    \n",
    ") -> pd.Series:\n",
    "    weights = np.arange(1, n + 1)\n",
    "    wma = x_.rolling(window=n).apply(\n",
    "        lambda x: np.dot(x, weights) / weights.sum(),\n",
    "        raw=True\n",
    "    ).fillna(0)\n",
    "    return wma\n",
    "\n",
    "def momentum(x_: pd.Series, n: int) -> pd.Series:\n",
    "    \"\"\"\n",
    "    General, market momentum:\n",
    "    M = C_{t} - C{t - n}, where\n",
    "    C_{t} the latest price\n",
    "    C_{t-1} the closing price n days ago\n",
    "    \"\"\"\n",
    "    hare = np.arange(n, len(x_))\n",
    "    v_ = [0 for i in range(n)]\n",
    "    for i in hare:\n",
    "        v_.append(\n",
    "            x_[i] - x_[i - n]\n",
    "        )\n",
    "    return pd.Series(v_)"
   ]
  },
  {
   "cell_type": "code",
   "execution_count": 8,
   "metadata": {},
   "outputs": [],
   "source": [
    "features = data.loc[:, ['open', 'high', 'low', 'close']]"
   ]
  },
  {
   "cell_type": "code",
   "execution_count": 9,
   "metadata": {},
   "outputs": [],
   "source": [
    "# Calculate n rolling mean.\n",
    "features['n10_rolling_mean'] = n_rolling_mean(x_=data['close'], n=10)"
   ]
  },
  {
   "cell_type": "code",
   "execution_count": 10,
   "metadata": {},
   "outputs": [],
   "source": [
    "# Weighted n rolling mean.\n",
    "features['n10_moving_wavg'] = weigted_n_moving_avg(x_=data['close'], n=10) "
   ]
  },
  {
   "cell_type": "code",
   "execution_count": 11,
   "metadata": {},
   "outputs": [],
   "source": [
    "# Momentum.\n",
    "features['n9_momentum'] = momentum(x_=data['close'], n=9)"
   ]
  },
  {
   "cell_type": "code",
   "execution_count": 12,
   "metadata": {},
   "outputs": [
    {
     "data": {
      "text/html": [
       "<div>\n",
       "<style scoped>\n",
       "    .dataframe tbody tr th:only-of-type {\n",
       "        vertical-align: middle;\n",
       "    }\n",
       "\n",
       "    .dataframe tbody tr th {\n",
       "        vertical-align: top;\n",
       "    }\n",
       "\n",
       "    .dataframe thead th {\n",
       "        text-align: right;\n",
       "    }\n",
       "</style>\n",
       "<table border=\"1\" class=\"dataframe\">\n",
       "  <thead>\n",
       "    <tr style=\"text-align: right;\">\n",
       "      <th></th>\n",
       "      <th>open</th>\n",
       "      <th>high</th>\n",
       "      <th>low</th>\n",
       "      <th>close</th>\n",
       "      <th>n10_rolling_mean</th>\n",
       "      <th>n10_moving_wavg</th>\n",
       "      <th>n9_momentum</th>\n",
       "    </tr>\n",
       "  </thead>\n",
       "  <tbody>\n",
       "    <tr>\n",
       "      <th>0</th>\n",
       "      <td>225.039993</td>\n",
       "      <td>225.830002</td>\n",
       "      <td>223.880005</td>\n",
       "      <td>225.240005</td>\n",
       "      <td>0.000000</td>\n",
       "      <td>0.000000</td>\n",
       "      <td>0.000000</td>\n",
       "    </tr>\n",
       "    <tr>\n",
       "      <th>1</th>\n",
       "      <td>225.619995</td>\n",
       "      <td>226.750000</td>\n",
       "      <td>225.610001</td>\n",
       "      <td>226.580002</td>\n",
       "      <td>0.000000</td>\n",
       "      <td>0.000000</td>\n",
       "      <td>0.000000</td>\n",
       "    </tr>\n",
       "    <tr>\n",
       "      <th>2</th>\n",
       "      <td>226.270004</td>\n",
       "      <td>226.580002</td>\n",
       "      <td>225.479996</td>\n",
       "      <td>226.399994</td>\n",
       "      <td>0.000000</td>\n",
       "      <td>0.000000</td>\n",
       "      <td>0.000000</td>\n",
       "    </tr>\n",
       "    <tr>\n",
       "      <th>3</th>\n",
       "      <td>226.529999</td>\n",
       "      <td>227.750000</td>\n",
       "      <td>225.899994</td>\n",
       "      <td>227.210007</td>\n",
       "      <td>0.000000</td>\n",
       "      <td>0.000000</td>\n",
       "      <td>0.000000</td>\n",
       "    </tr>\n",
       "    <tr>\n",
       "      <th>4</th>\n",
       "      <td>226.910004</td>\n",
       "      <td>227.070007</td>\n",
       "      <td>226.419998</td>\n",
       "      <td>226.460007</td>\n",
       "      <td>0.000000</td>\n",
       "      <td>0.000000</td>\n",
       "      <td>0.000000</td>\n",
       "    </tr>\n",
       "    <tr>\n",
       "      <th>...</th>\n",
       "      <td>...</td>\n",
       "      <td>...</td>\n",
       "      <td>...</td>\n",
       "      <td>...</td>\n",
       "      <td>...</td>\n",
       "      <td>...</td>\n",
       "      <td>...</td>\n",
       "    </tr>\n",
       "    <tr>\n",
       "      <th>1713</th>\n",
       "      <td>422.649994</td>\n",
       "      <td>424.820007</td>\n",
       "      <td>420.739990</td>\n",
       "      <td>423.630005</td>\n",
       "      <td>429.545999</td>\n",
       "      <td>426.884180</td>\n",
       "      <td>-12.690002</td>\n",
       "    </tr>\n",
       "    <tr>\n",
       "      <th>1714</th>\n",
       "      <td>421.890015</td>\n",
       "      <td>421.920013</td>\n",
       "      <td>417.019989</td>\n",
       "      <td>417.549988</td>\n",
       "      <td>427.668997</td>\n",
       "      <td>424.703087</td>\n",
       "      <td>-16.110016</td>\n",
       "    </tr>\n",
       "    <tr>\n",
       "      <th>1715</th>\n",
       "      <td>416.450012</td>\n",
       "      <td>417.329987</td>\n",
       "      <td>411.600006</td>\n",
       "      <td>412.549988</td>\n",
       "      <td>425.557996</td>\n",
       "      <td>421.954176</td>\n",
       "      <td>-18.950012</td>\n",
       "    </tr>\n",
       "    <tr>\n",
       "      <th>1716</th>\n",
       "      <td>414.190002</td>\n",
       "      <td>414.600006</td>\n",
       "      <td>409.209991</td>\n",
       "      <td>410.679993</td>\n",
       "      <td>423.475995</td>\n",
       "      <td>419.249084</td>\n",
       "      <td>-25.360016</td>\n",
       "    </tr>\n",
       "    <tr>\n",
       "      <th>1717</th>\n",
       "      <td>413.559998</td>\n",
       "      <td>416.679993</td>\n",
       "      <td>412.220001</td>\n",
       "      <td>415.589996</td>\n",
       "      <td>421.430994</td>\n",
       "      <td>417.815267</td>\n",
       "      <td>-20.429993</td>\n",
       "    </tr>\n",
       "  </tbody>\n",
       "</table>\n",
       "<p>1718 rows × 7 columns</p>\n",
       "</div>"
      ],
      "text/plain": [
       "            open        high         low       close  n10_rolling_mean  \\\n",
       "0     225.039993  225.830002  223.880005  225.240005          0.000000   \n",
       "1     225.619995  226.750000  225.610001  226.580002          0.000000   \n",
       "2     226.270004  226.580002  225.479996  226.399994          0.000000   \n",
       "3     226.529999  227.750000  225.899994  227.210007          0.000000   \n",
       "4     226.910004  227.070007  226.419998  226.460007          0.000000   \n",
       "...          ...         ...         ...         ...               ...   \n",
       "1713  422.649994  424.820007  420.739990  423.630005        429.545999   \n",
       "1714  421.890015  421.920013  417.019989  417.549988        427.668997   \n",
       "1715  416.450012  417.329987  411.600006  412.549988        425.557996   \n",
       "1716  414.190002  414.600006  409.209991  410.679993        423.475995   \n",
       "1717  413.559998  416.679993  412.220001  415.589996        421.430994   \n",
       "\n",
       "      n10_moving_wavg  n9_momentum  \n",
       "0            0.000000     0.000000  \n",
       "1            0.000000     0.000000  \n",
       "2            0.000000     0.000000  \n",
       "3            0.000000     0.000000  \n",
       "4            0.000000     0.000000  \n",
       "...               ...          ...  \n",
       "1713       426.884180   -12.690002  \n",
       "1714       424.703087   -16.110016  \n",
       "1715       421.954176   -18.950012  \n",
       "1716       419.249084   -25.360016  \n",
       "1717       417.815267   -20.429993  \n",
       "\n",
       "[1718 rows x 7 columns]"
      ]
     },
     "execution_count": 12,
     "metadata": {},
     "output_type": "execute_result"
    }
   ],
   "source": [
    "features"
   ]
  },
  {
   "cell_type": "code",
   "execution_count": 14,
   "metadata": {},
   "outputs": [
    {
     "data": {
      "text/plain": [
       "<Axes: >"
      ]
     },
     "execution_count": 14,
     "metadata": {},
     "output_type": "execute_result"
    },
    {
     "data": {
      "image/png": "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",
      "text/plain": [
       "<Figure size 640x480 with 1 Axes>"
      ]
     },
     "metadata": {},
     "output_type": "display_data"
    }
   ],
   "source": [
    "features['n9_momentum'].hist()"
   ]
=======
   "execution_count": null,
   "metadata": {},
   "outputs": [],
   "source": []
>>>>>>> 5bbaccf470cdf9c17f321340711afa4ea697c1b1
  }
 ],
 "metadata": {
  "kernelspec": {
   "display_name": "venvpp",
   "language": "python",
   "name": "python3"
  },
  "language_info": {
   "codemirror_mode": {
    "name": "ipython",
    "version": 3
   },
   "file_extension": ".py",
   "mimetype": "text/x-python",
   "name": "python",
   "nbconvert_exporter": "python",
   "pygments_lexer": "ipython3",
   "version": "3.8.10"
  }
 },
 "nbformat": 4,
 "nbformat_minor": 2
}
