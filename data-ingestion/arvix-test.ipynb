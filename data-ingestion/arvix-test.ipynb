{
 "cells": [
  {
   "cell_type": "markdown",
   "metadata": {},
   "source": [
    "# Data Ingestor"
   ]
  },
  {
   "cell_type": "markdown",
   "metadata": {},
   "source": [
    "The data ingestion module uses the Arxiv public API, in order to query open papers with specific domain topics.\n",
    "\n",
    "References:\n",
    "- http://lukasschwab.me/arxiv.py/index.html\n",
    "- https://info.arxiv.org/help/api/user-manual.html#query_details"
   ]
  },
  {
   "cell_type": "code",
   "execution_count": 6,
   "metadata": {},
   "outputs": [],
   "source": [
    "# Import libraries.\n",
    "import arxiv as ar\n",
    "import re"
   ]
  },
  {
   "cell_type": "code",
   "execution_count": 3,
   "metadata": {},
   "outputs": [],
   "source": [
    "# Query for request.\n",
    "query = \"\"\"ti:(quantum optimization)\"\"\""
   ]
  },
  {
   "cell_type": "code",
   "execution_count": 4,
   "metadata": {},
   "outputs": [],
   "source": [
    "# Request data from ArXiv.\n",
    "search = ar.Search(\n",
    "    query=query,\n",
    "    max_results=10,\n",
    "    sort_by=ar.SortCriterion.SubmittedDate\n",
    ")"
   ]
  },
  {
   "cell_type": "code",
   "execution_count": 5,
   "metadata": {},
   "outputs": [
    {
     "name": "stdout",
     "output_type": "stream",
     "text": [
      "Saving... $Des$-$q$: a quantum algorithm to construct and efficiently retrain decision trees for regression and binary classification\n",
      "Saving... Power of quantum measurement in simulating unphysical operations\n",
      "Saving... Optimization of probe separation distance and cooling time in multi-probe cryoablation technique by arranging probes in triangular and square pattern-A computational approach\n",
      "Saving... Quantum Circuit Optimization through Iteratively Pre-Conditioned Gradient Descent\n",
      "Saving... Holographic Limitations and Corrections to Quantum Information Protocols\n",
      "Saving... Increasing the dimension of linear systems solved by classical or quantum binary optimization: A new method to solve large linear equation systems\n",
      "Saving... Quantum algorithm for imaginary-time Green's functions\n",
      "Saving... Quantum Vision Clustering\n",
      "Saving... Vacuum cleaving of superconducting niobium tips to optimize noise filtering and with adjustable gap size for scanning tunneling microscopy\n",
      "Saving... Quantum computation of $π\\to π^*$ and $n \\to π^*$ excited states of aromatic heterocycles\n"
     ]
    }
   ],
   "source": [
    "payload = {}\n",
    "for result in search.results():\n",
    "    print('Saving...', result.title)\n",
    "    payload.update({\n",
    "        result.title: result.summary\n",
    "    })"
   ]
  },
  {
   "cell_type": "code",
   "execution_count": 8,
   "metadata": {},
   "outputs": [],
   "source": [
    "# Regex pattern.\n",
    "pattern = \"(\\d+).(\\d+[a-zA-Z]\\d+)\""
   ]
  },
  {
   "cell_type": "code",
   "execution_count": 10,
   "metadata": {},
   "outputs": [],
   "source": [
    "# Parse the id from the urls.\n",
    "ids = [re.search(pattern=pattern, string=x.entry_id)[0] for x in search.results()]"
   ]
  },
  {
   "cell_type": "code",
   "execution_count": 14,
   "metadata": {},
   "outputs": [],
   "source": [
    "papers = ar.Search(id_list=ids).results()"
   ]
  },
  {
   "cell_type": "code",
   "execution_count": 15,
   "metadata": {},
   "outputs": [
    {
     "data": {
      "text/plain": [
       "['./2309.09976v1._Des___q___a_quantum_algorithm_to_construct_and_efficiently_retrain_decision_trees_for_regression_and_binary_classification.pdf',\n",
       " './2309.09963v1.Power_of_quantum_measurement_in_simulating_unphysical_operations.pdf',\n",
       " './2309.09959v1.Optimization_of_probe_separation_distance_and_cooling_time_in_multi_probe_cryoablation_technique_by_arranging_probes_in_triangular_and_square_pattern_A_computational_approach.pdf',\n",
       " './2309.09957v1.Quantum_Circuit_Optimization_through_Iteratively_Pre_Conditioned_Gradient_Descent.pdf',\n",
       " './2309.09939v1.Holographic_Limitations_and_Corrections_to_Quantum_Information_Protocols.pdf',\n",
       " './2309.09933v1.Increasing_the_dimension_of_linear_systems_solved_by_classical_or_quantum_binary_optimization__A_new_method_to_solve_large_linear_equation_systems.pdf',\n",
       " './2309.09914v1.Quantum_algorithm_for_imaginary_time_Green_s_functions.pdf',\n",
       " './2309.09907v1.Quantum_Vision_Clustering.pdf',\n",
       " './2309.09903v1.Vacuum_cleaving_of_superconducting_niobium_tips_to_optimize_noise_filtering_and_with_adjustable_gap_size_for_scanning_tunneling_microscopy.pdf',\n",
       " './2309.09868v1.Quantum_computation_of__π_to_π____and__n__to_π____excited_states_of_aromatic_heterocycles.pdf']"
      ]
     },
     "execution_count": 15,
     "metadata": {},
     "output_type": "execute_result"
    }
   ],
   "source": [
    "# Download papers into current folder.\n",
    "[paper.download_pdf() for paper in papers]"
   ]
  }
 ],
 "metadata": {
  "kernelspec": {
   "display_name": "Python 3",
   "language": "python",
   "name": "python3"
  },
  "language_info": {
   "codemirror_mode": {
    "name": "ipython",
    "version": 3
   },
   "file_extension": ".py",
   "mimetype": "text/x-python",
   "name": "python",
   "nbconvert_exporter": "python",
   "pygments_lexer": "ipython3",
   "version": "3.8.10"
  },
  "orig_nbformat": 4
 },
 "nbformat": 4,
 "nbformat_minor": 2
}
